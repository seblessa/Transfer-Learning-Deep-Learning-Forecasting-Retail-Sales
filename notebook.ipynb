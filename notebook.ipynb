{
 "cells": [
  {
   "cell_type": "code",
   "outputs": [],
   "source": [
    "%load_ext autoreload\n",
    "%autoreload 2\n",
    "import numpy as np\n",
    "import pandas as pd\n",
    "import torch\n",
    "import utils\n",
    "from datetime import timedelta, datetime\n",
    "from chronos import ChronosPipeline\n",
    "from darts import TimeSeries\n",
    "from darts.dataprocessing.pipeline import Pipeline\n",
    "from darts.models import TiDEModel\n",
    "from darts.dataprocessing.transformers import Scaler\n",
    "from darts.utils.timeseries_generation import datetime_attribute_timeseries\n",
    "from darts.utils.likelihood_models import QuantileRegression\n",
    "from darts.dataprocessing.transformers import StaticCovariatesTransformer, MissingValuesFiller\n",
    "\n",
    "TIME_COL = \"Date\"\n",
    "TARGET = \"Weekly_Sales\"\n",
    "STATIC_COV = [\"Store\", \"Dept\", \"Type\", \"Size\"]\n",
    "DYNAMIC_COV_FILL_0 = [\"IsHoliday\", 'MarkDown1', 'MarkDown2', 'MarkDown3', 'MarkDown4', 'MarkDown5']\n",
    "DYNAMIC_COV_FILL_INTERPOLATE = ['Temperature', 'Fuel_Price', 'CPI', 'Unemployment']\n",
    "FREQ = \"W-FRI\"\n",
    "SCALER = Scaler()\n",
    "TRANSFORMER = StaticCovariatesTransformer()\n",
    "PIPELINE = Pipeline([SCALER, TRANSFORMER])"
   ],
   "metadata": {
    "collapsed": false,
    "ExecuteTime": {
     "end_time": "2024-04-01T14:47:10.642619Z",
     "start_time": "2024-04-01T14:47:05.731464Z"
    }
   },
   "id": "39b7c0c0044fac11",
   "execution_count": 1
  },
  {
   "cell_type": "markdown",
   "source": [
    "### Load data"
   ],
   "metadata": {
    "collapsed": false
   },
   "id": "d7ff23d22ba359ec"
  },
  {
   "cell_type": "code",
   "outputs": [
    {
     "name": "stdout",
     "output_type": "stream",
     "text": [
      "Distinct number of time series: 3331\n"
     ]
    },
    {
     "data": {
      "text/plain": "        Store  Dept        Date  Weekly_Sales  IsHoliday Type    Size  \\\n0           1     1  2010-02-05      24924.50      False    A  151315   \n1           1     1  2010-02-12      46039.49       True    A  151315   \n2           1     1  2010-02-19      41595.55      False    A  151315   \n3           1     1  2010-02-26      19403.54      False    A  151315   \n4           1     1  2010-03-05      21827.90      False    A  151315   \n...       ...   ...         ...           ...        ...  ...     ...   \n421565     45    98  2012-09-28        508.37      False    B  118221   \n421566     45    98  2012-10-05        628.10      False    B  118221   \n421567     45    98  2012-10-12       1061.02      False    B  118221   \n421568     45    98  2012-10-19        760.01      False    B  118221   \n421569     45    98  2012-10-26       1076.80      False    B  118221   \n\n        Temperature  Fuel_Price  MarkDown1  MarkDown2  MarkDown3  MarkDown4  \\\n0             42.31       2.572        NaN        NaN        NaN        NaN   \n1             38.51       2.548        NaN        NaN        NaN        NaN   \n2             39.93       2.514        NaN        NaN        NaN        NaN   \n3             46.63       2.561        NaN        NaN        NaN        NaN   \n4             46.50       2.625        NaN        NaN        NaN        NaN   \n...             ...         ...        ...        ...        ...        ...   \n421565        64.88       3.997    4556.61      20.64       1.50    1601.01   \n421566        64.89       3.985    5046.74        NaN      18.82    2253.43   \n421567        54.47       4.000    1956.28        NaN       7.89     599.32   \n421568        56.47       3.969    2004.02        NaN       3.18     437.73   \n421569        58.85       3.882    4018.91      58.08     100.00     211.94   \n\n        MarkDown5         CPI  Unemployment unique_id  \n0             NaN  211.096358         8.106       1-1  \n1             NaN  211.242170         8.106       1-1  \n2             NaN  211.289143         8.106       1-1  \n3             NaN  211.319643         8.106       1-1  \n4             NaN  211.350143         8.106       1-1  \n...           ...         ...           ...       ...  \n421565    3288.25  192.013558         8.684     45-98  \n421566    2340.01  192.170412         8.667     45-98  \n421567    3990.54  192.327265         8.667     45-98  \n421568    1537.49  192.330854         8.667     45-98  \n421569     858.33  192.308899         8.667     45-98  \n\n[421570 rows x 17 columns]",
      "text/html": "<div>\n<style scoped>\n    .dataframe tbody tr th:only-of-type {\n        vertical-align: middle;\n    }\n\n    .dataframe tbody tr th {\n        vertical-align: top;\n    }\n\n    .dataframe thead th {\n        text-align: right;\n    }\n</style>\n<table border=\"1\" class=\"dataframe\">\n  <thead>\n    <tr style=\"text-align: right;\">\n      <th></th>\n      <th>Store</th>\n      <th>Dept</th>\n      <th>Date</th>\n      <th>Weekly_Sales</th>\n      <th>IsHoliday</th>\n      <th>Type</th>\n      <th>Size</th>\n      <th>Temperature</th>\n      <th>Fuel_Price</th>\n      <th>MarkDown1</th>\n      <th>MarkDown2</th>\n      <th>MarkDown3</th>\n      <th>MarkDown4</th>\n      <th>MarkDown5</th>\n      <th>CPI</th>\n      <th>Unemployment</th>\n      <th>unique_id</th>\n    </tr>\n  </thead>\n  <tbody>\n    <tr>\n      <th>0</th>\n      <td>1</td>\n      <td>1</td>\n      <td>2010-02-05</td>\n      <td>24924.50</td>\n      <td>False</td>\n      <td>A</td>\n      <td>151315</td>\n      <td>42.31</td>\n      <td>2.572</td>\n      <td>NaN</td>\n      <td>NaN</td>\n      <td>NaN</td>\n      <td>NaN</td>\n      <td>NaN</td>\n      <td>211.096358</td>\n      <td>8.106</td>\n      <td>1-1</td>\n    </tr>\n    <tr>\n      <th>1</th>\n      <td>1</td>\n      <td>1</td>\n      <td>2010-02-12</td>\n      <td>46039.49</td>\n      <td>True</td>\n      <td>A</td>\n      <td>151315</td>\n      <td>38.51</td>\n      <td>2.548</td>\n      <td>NaN</td>\n      <td>NaN</td>\n      <td>NaN</td>\n      <td>NaN</td>\n      <td>NaN</td>\n      <td>211.242170</td>\n      <td>8.106</td>\n      <td>1-1</td>\n    </tr>\n    <tr>\n      <th>2</th>\n      <td>1</td>\n      <td>1</td>\n      <td>2010-02-19</td>\n      <td>41595.55</td>\n      <td>False</td>\n      <td>A</td>\n      <td>151315</td>\n      <td>39.93</td>\n      <td>2.514</td>\n      <td>NaN</td>\n      <td>NaN</td>\n      <td>NaN</td>\n      <td>NaN</td>\n      <td>NaN</td>\n      <td>211.289143</td>\n      <td>8.106</td>\n      <td>1-1</td>\n    </tr>\n    <tr>\n      <th>3</th>\n      <td>1</td>\n      <td>1</td>\n      <td>2010-02-26</td>\n      <td>19403.54</td>\n      <td>False</td>\n      <td>A</td>\n      <td>151315</td>\n      <td>46.63</td>\n      <td>2.561</td>\n      <td>NaN</td>\n      <td>NaN</td>\n      <td>NaN</td>\n      <td>NaN</td>\n      <td>NaN</td>\n      <td>211.319643</td>\n      <td>8.106</td>\n      <td>1-1</td>\n    </tr>\n    <tr>\n      <th>4</th>\n      <td>1</td>\n      <td>1</td>\n      <td>2010-03-05</td>\n      <td>21827.90</td>\n      <td>False</td>\n      <td>A</td>\n      <td>151315</td>\n      <td>46.50</td>\n      <td>2.625</td>\n      <td>NaN</td>\n      <td>NaN</td>\n      <td>NaN</td>\n      <td>NaN</td>\n      <td>NaN</td>\n      <td>211.350143</td>\n      <td>8.106</td>\n      <td>1-1</td>\n    </tr>\n    <tr>\n      <th>...</th>\n      <td>...</td>\n      <td>...</td>\n      <td>...</td>\n      <td>...</td>\n      <td>...</td>\n      <td>...</td>\n      <td>...</td>\n      <td>...</td>\n      <td>...</td>\n      <td>...</td>\n      <td>...</td>\n      <td>...</td>\n      <td>...</td>\n      <td>...</td>\n      <td>...</td>\n      <td>...</td>\n      <td>...</td>\n    </tr>\n    <tr>\n      <th>421565</th>\n      <td>45</td>\n      <td>98</td>\n      <td>2012-09-28</td>\n      <td>508.37</td>\n      <td>False</td>\n      <td>B</td>\n      <td>118221</td>\n      <td>64.88</td>\n      <td>3.997</td>\n      <td>4556.61</td>\n      <td>20.64</td>\n      <td>1.50</td>\n      <td>1601.01</td>\n      <td>3288.25</td>\n      <td>192.013558</td>\n      <td>8.684</td>\n      <td>45-98</td>\n    </tr>\n    <tr>\n      <th>421566</th>\n      <td>45</td>\n      <td>98</td>\n      <td>2012-10-05</td>\n      <td>628.10</td>\n      <td>False</td>\n      <td>B</td>\n      <td>118221</td>\n      <td>64.89</td>\n      <td>3.985</td>\n      <td>5046.74</td>\n      <td>NaN</td>\n      <td>18.82</td>\n      <td>2253.43</td>\n      <td>2340.01</td>\n      <td>192.170412</td>\n      <td>8.667</td>\n      <td>45-98</td>\n    </tr>\n    <tr>\n      <th>421567</th>\n      <td>45</td>\n      <td>98</td>\n      <td>2012-10-12</td>\n      <td>1061.02</td>\n      <td>False</td>\n      <td>B</td>\n      <td>118221</td>\n      <td>54.47</td>\n      <td>4.000</td>\n      <td>1956.28</td>\n      <td>NaN</td>\n      <td>7.89</td>\n      <td>599.32</td>\n      <td>3990.54</td>\n      <td>192.327265</td>\n      <td>8.667</td>\n      <td>45-98</td>\n    </tr>\n    <tr>\n      <th>421568</th>\n      <td>45</td>\n      <td>98</td>\n      <td>2012-10-19</td>\n      <td>760.01</td>\n      <td>False</td>\n      <td>B</td>\n      <td>118221</td>\n      <td>56.47</td>\n      <td>3.969</td>\n      <td>2004.02</td>\n      <td>NaN</td>\n      <td>3.18</td>\n      <td>437.73</td>\n      <td>1537.49</td>\n      <td>192.330854</td>\n      <td>8.667</td>\n      <td>45-98</td>\n    </tr>\n    <tr>\n      <th>421569</th>\n      <td>45</td>\n      <td>98</td>\n      <td>2012-10-26</td>\n      <td>1076.80</td>\n      <td>False</td>\n      <td>B</td>\n      <td>118221</td>\n      <td>58.85</td>\n      <td>3.882</td>\n      <td>4018.91</td>\n      <td>58.08</td>\n      <td>100.00</td>\n      <td>211.94</td>\n      <td>858.33</td>\n      <td>192.308899</td>\n      <td>8.667</td>\n      <td>45-98</td>\n    </tr>\n  </tbody>\n</table>\n<p>421570 rows × 17 columns</p>\n</div>"
     },
     "execution_count": 2,
     "metadata": {},
     "output_type": "execute_result"
    }
   ],
   "source": [
    "# load data and exogenous features\n",
    "df = pd.read_csv('data/train.csv')\n",
    "store_info = pd.read_csv('data/stores.csv')\n",
    "exo_feat = pd.read_csv('data/features.csv').drop(columns='IsHoliday')\n",
    "\n",
    "# join all data frames\n",
    "df = pd.merge(df, store_info, on=['Store'], how='left')\n",
    "df = pd.merge(df, exo_feat, on=['Store', TIME_COL], how='left')\n",
    "\n",
    "# create unique id\n",
    "df[\"unique_id\"] = df['Store'].astype(str)+'-'+df['Dept'].astype(str)\n",
    "\n",
    "print(f\"Distinct number of time series: {len(df['unique_id'].unique())}\")\n",
    "df"
   ],
   "metadata": {
    "collapsed": false,
    "ExecuteTime": {
     "end_time": "2024-04-01T14:47:10.995489Z",
     "start_time": "2024-04-01T14:47:10.643667Z"
    }
   },
   "id": "ad3ba5c663e65dc9",
   "execution_count": 2
  },
  {
   "cell_type": "markdown",
   "source": [
    "### Preprocess data"
   ],
   "metadata": {
    "collapsed": false
   },
   "id": "802b1f01035b30fb"
  },
  {
   "cell_type": "code",
   "outputs": [
    {
     "name": "stdout",
     "output_type": "stream",
     "text": [
      "Distinct number of time series: 100\n"
     ]
    },
    {
     "data": {
      "text/plain": "      Store  Dept       Date  Weekly_Sales  IsHoliday Type    Size  \\\n5118      1    38 2010-02-05     115564.35          0    A  medium   \n5119      1    38 2010-02-12      94136.35          1    A  medium   \n5120      1    38 2010-02-19      98672.59          0    A  medium   \n5121      1    38 2010-02-26      92755.59          0    A  medium   \n5122      1    38 2010-03-05     108282.86          0    A  medium   \n\n      Temperature  Fuel_Price  MarkDown1  MarkDown2  MarkDown3  MarkDown4  \\\n5118        42.31       2.572        0.0        0.0        0.0        0.0   \n5119        38.51       2.548        0.0        0.0        0.0        0.0   \n5120        39.93       2.514        0.0        0.0        0.0        0.0   \n5121        46.63       2.561        0.0        0.0        0.0        0.0   \n5122        46.50       2.625        0.0        0.0        0.0        0.0   \n\n      MarkDown5         CPI  Unemployment unique_id  \n5118        0.0  211.096358         8.106      1-38  \n5119        0.0  211.242170         8.106      1-38  \n5120        0.0  211.289143         8.106      1-38  \n5121        0.0  211.319643         8.106      1-38  \n5122        0.0  211.350143         8.106      1-38  ",
      "text/html": "<div>\n<style scoped>\n    .dataframe tbody tr th:only-of-type {\n        vertical-align: middle;\n    }\n\n    .dataframe tbody tr th {\n        vertical-align: top;\n    }\n\n    .dataframe thead th {\n        text-align: right;\n    }\n</style>\n<table border=\"1\" class=\"dataframe\">\n  <thead>\n    <tr style=\"text-align: right;\">\n      <th></th>\n      <th>Store</th>\n      <th>Dept</th>\n      <th>Date</th>\n      <th>Weekly_Sales</th>\n      <th>IsHoliday</th>\n      <th>Type</th>\n      <th>Size</th>\n      <th>Temperature</th>\n      <th>Fuel_Price</th>\n      <th>MarkDown1</th>\n      <th>MarkDown2</th>\n      <th>MarkDown3</th>\n      <th>MarkDown4</th>\n      <th>MarkDown5</th>\n      <th>CPI</th>\n      <th>Unemployment</th>\n      <th>unique_id</th>\n    </tr>\n  </thead>\n  <tbody>\n    <tr>\n      <th>5118</th>\n      <td>1</td>\n      <td>38</td>\n      <td>2010-02-05</td>\n      <td>115564.35</td>\n      <td>0</td>\n      <td>A</td>\n      <td>medium</td>\n      <td>42.31</td>\n      <td>2.572</td>\n      <td>0.0</td>\n      <td>0.0</td>\n      <td>0.0</td>\n      <td>0.0</td>\n      <td>0.0</td>\n      <td>211.096358</td>\n      <td>8.106</td>\n      <td>1-38</td>\n    </tr>\n    <tr>\n      <th>5119</th>\n      <td>1</td>\n      <td>38</td>\n      <td>2010-02-12</td>\n      <td>94136.35</td>\n      <td>1</td>\n      <td>A</td>\n      <td>medium</td>\n      <td>38.51</td>\n      <td>2.548</td>\n      <td>0.0</td>\n      <td>0.0</td>\n      <td>0.0</td>\n      <td>0.0</td>\n      <td>0.0</td>\n      <td>211.242170</td>\n      <td>8.106</td>\n      <td>1-38</td>\n    </tr>\n    <tr>\n      <th>5120</th>\n      <td>1</td>\n      <td>38</td>\n      <td>2010-02-19</td>\n      <td>98672.59</td>\n      <td>0</td>\n      <td>A</td>\n      <td>medium</td>\n      <td>39.93</td>\n      <td>2.514</td>\n      <td>0.0</td>\n      <td>0.0</td>\n      <td>0.0</td>\n      <td>0.0</td>\n      <td>0.0</td>\n      <td>211.289143</td>\n      <td>8.106</td>\n      <td>1-38</td>\n    </tr>\n    <tr>\n      <th>5121</th>\n      <td>1</td>\n      <td>38</td>\n      <td>2010-02-26</td>\n      <td>92755.59</td>\n      <td>0</td>\n      <td>A</td>\n      <td>medium</td>\n      <td>46.63</td>\n      <td>2.561</td>\n      <td>0.0</td>\n      <td>0.0</td>\n      <td>0.0</td>\n      <td>0.0</td>\n      <td>0.0</td>\n      <td>211.319643</td>\n      <td>8.106</td>\n      <td>1-38</td>\n    </tr>\n    <tr>\n      <th>5122</th>\n      <td>1</td>\n      <td>38</td>\n      <td>2010-03-05</td>\n      <td>108282.86</td>\n      <td>0</td>\n      <td>A</td>\n      <td>medium</td>\n      <td>46.50</td>\n      <td>2.625</td>\n      <td>0.0</td>\n      <td>0.0</td>\n      <td>0.0</td>\n      <td>0.0</td>\n      <td>0.0</td>\n      <td>211.350143</td>\n      <td>8.106</td>\n      <td>1-38</td>\n    </tr>\n  </tbody>\n</table>\n</div>"
     },
     "execution_count": 3,
     "metadata": {},
     "output_type": "execute_result"
    }
   ],
   "source": [
    "df[TIME_COL] = pd.to_datetime(df[TIME_COL])\n",
    "df[TARGET] = np.where(df[TARGET] < 0, 0, df[TARGET]) # remove negative values\n",
    "df[['MarkDown1', 'MarkDown2', 'MarkDown3', 'MarkDown4','MarkDown5']] = df[['MarkDown1', 'MarkDown2', 'MarkDown3', 'MarkDown4','MarkDown5']].fillna(0) # fill missing values with nan\n",
    "df[\"IsHoliday\"] = df[\"IsHoliday\"]*1 # convert boolean into binary\n",
    "df[\"Size\"] = np.where(df[\"Size\"] < store_info[\"Size\"].quantile(0.25), \"small\",\n",
    "                np.where(df[\"Size\"] > store_info[\"Size\"].quantile(0.75), \"large\",\n",
    "                \"medium\")) # make size a categorical variable\n",
    "\n",
    "# reduce running time by forecasting only top 100 stores-depts\n",
    "top_100_stores = df.groupby(['unique_id']).agg({TARGET: 'sum'}).reset_index().sort_values(by=TARGET, ascending=False).head(100)\n",
    "df = df[df['unique_id'].isin(top_100_stores['unique_id'])]\n",
    "\n",
    "print(f\"Distinct number of time series: {len(df['unique_id'].unique())}\")\n",
    "df.head()"
   ],
   "metadata": {
    "collapsed": false,
    "ExecuteTime": {
     "end_time": "2024-04-01T14:47:11.162925Z",
     "start_time": "2024-04-01T14:47:10.996232Z"
    }
   },
   "id": "4300ffe83ef21ffa",
   "execution_count": 3
  },
  {
   "cell_type": "markdown",
   "source": [
    "### Split data"
   ],
   "metadata": {
    "collapsed": false
   },
   "id": "d6f710de63b9ba2a"
  },
  {
   "cell_type": "code",
   "outputs": [
    {
     "name": "stdout",
     "output_type": "stream",
     "text": [
      "Weeks for training: 52 from 2011-01-07 to 2011-12-30\n",
      "Weeks for testing: 2 from 2012-01-06 to 2012-01-13\n"
     ]
    }
   ],
   "source": [
    "train_start_date = datetime(2011, 1, 1)\n",
    "train_end_date = datetime(2011, 12, 31)\n",
    "test_start_date = datetime(2012, 1, 1)\n",
    "FORECAST_HORIZON = 1\n",
    "\n",
    "# Split the dataset into training and testing sets\n",
    "train = df[(df[TIME_COL] >= train_start_date) & (df[TIME_COL] <= train_end_date)]\n",
    "test = df[(df[TIME_COL] >= test_start_date) & (df[TIME_COL] < test_start_date + pd.Timedelta(weeks=FORECAST_HORIZON))]\n",
    "\n",
    "\n",
    "# read train and test datasets and transform train dataset\n",
    "train_darts = TimeSeries.from_group_dataframe(\n",
    "      df=train,\n",
    "      group_cols=STATIC_COV,\n",
    "      time_col=TIME_COL,\n",
    "      value_cols=TARGET,\n",
    "      freq=FREQ,  \n",
    "      fill_missing_dates=True,\n",
    "      fillna_value=0)\n",
    "\n",
    "# since we have several time series not all of them have the same number of weeks in the forecast set\n",
    "print(f\"Weeks for training: {len(train[TIME_COL].unique())} from {min(train[TIME_COL]).date()} to {max(train[TIME_COL]).date()}\")\n",
    "print(f\"Weeks for testing: {len(test[TIME_COL].unique())} from {min(test[TIME_COL]).date()} to {max(test[TIME_COL]).date()}\")"
   ],
   "metadata": {
    "collapsed": false,
    "ExecuteTime": {
     "end_time": "2024-04-01T14:47:11.838127Z",
     "start_time": "2024-04-01T14:47:11.163916Z"
    }
   },
   "id": "5da81c70fc206d44",
   "execution_count": 4
  },
  {
   "cell_type": "markdown",
   "source": [
    "### Forecasting"
   ],
   "metadata": {
    "collapsed": false
   },
   "id": "611730d20536f39"
  },
  {
   "cell_type": "code",
   "outputs": [
    {
     "data": {
      "text/plain": "       unique_id       Date  forecast_lower       forecast  forecast_upper\n5218        1-38 2012-01-06    65684.362500   73669.960938    83792.546875\n5219        1-38 2012-01-13    63547.367188   67483.929688    76762.971094\n9041        1-90 2012-01-06    75056.496094   85655.601562    98288.263281\n9042        1-90 2012-01-13    84792.884375   92434.109375   102725.108594\n9327        1-92 2012-01-06   126343.649219  141377.453125   164376.185938\n...          ...        ...             ...            ...             ...\n397113     42-92 2012-01-13   101578.699219  105824.144531   112129.895313\n403859     43-92 2012-01-06    74507.397656   84763.476562    88262.614844\n403860     43-92 2012-01-13    85608.092188   91399.765625    97131.109375\n404288     43-95 2012-01-06    56461.707422   66456.320312    74933.421875\n404289     43-95 2012-01-13    58083.867188   68811.074219    80270.857813\n\n[200 rows x 5 columns]",
      "text/html": "<div>\n<style scoped>\n    .dataframe tbody tr th:only-of-type {\n        vertical-align: middle;\n    }\n\n    .dataframe tbody tr th {\n        vertical-align: top;\n    }\n\n    .dataframe thead th {\n        text-align: right;\n    }\n</style>\n<table border=\"1\" class=\"dataframe\">\n  <thead>\n    <tr style=\"text-align: right;\">\n      <th></th>\n      <th>unique_id</th>\n      <th>Date</th>\n      <th>forecast_lower</th>\n      <th>forecast</th>\n      <th>forecast_upper</th>\n    </tr>\n  </thead>\n  <tbody>\n    <tr>\n      <th>5218</th>\n      <td>1-38</td>\n      <td>2012-01-06</td>\n      <td>65684.362500</td>\n      <td>73669.960938</td>\n      <td>83792.546875</td>\n    </tr>\n    <tr>\n      <th>5219</th>\n      <td>1-38</td>\n      <td>2012-01-13</td>\n      <td>63547.367188</td>\n      <td>67483.929688</td>\n      <td>76762.971094</td>\n    </tr>\n    <tr>\n      <th>9041</th>\n      <td>1-90</td>\n      <td>2012-01-06</td>\n      <td>75056.496094</td>\n      <td>85655.601562</td>\n      <td>98288.263281</td>\n    </tr>\n    <tr>\n      <th>9042</th>\n      <td>1-90</td>\n      <td>2012-01-13</td>\n      <td>84792.884375</td>\n      <td>92434.109375</td>\n      <td>102725.108594</td>\n    </tr>\n    <tr>\n      <th>9327</th>\n      <td>1-92</td>\n      <td>2012-01-06</td>\n      <td>126343.649219</td>\n      <td>141377.453125</td>\n      <td>164376.185938</td>\n    </tr>\n    <tr>\n      <th>...</th>\n      <td>...</td>\n      <td>...</td>\n      <td>...</td>\n      <td>...</td>\n      <td>...</td>\n    </tr>\n    <tr>\n      <th>397113</th>\n      <td>42-92</td>\n      <td>2012-01-13</td>\n      <td>101578.699219</td>\n      <td>105824.144531</td>\n      <td>112129.895313</td>\n    </tr>\n    <tr>\n      <th>403859</th>\n      <td>43-92</td>\n      <td>2012-01-06</td>\n      <td>74507.397656</td>\n      <td>84763.476562</td>\n      <td>88262.614844</td>\n    </tr>\n    <tr>\n      <th>403860</th>\n      <td>43-92</td>\n      <td>2012-01-13</td>\n      <td>85608.092188</td>\n      <td>91399.765625</td>\n      <td>97131.109375</td>\n    </tr>\n    <tr>\n      <th>404288</th>\n      <td>43-95</td>\n      <td>2012-01-06</td>\n      <td>56461.707422</td>\n      <td>66456.320312</td>\n      <td>74933.421875</td>\n    </tr>\n    <tr>\n      <th>404289</th>\n      <td>43-95</td>\n      <td>2012-01-13</td>\n      <td>58083.867188</td>\n      <td>68811.074219</td>\n      <td>80270.857813</td>\n    </tr>\n  </tbody>\n</table>\n<p>200 rows × 5 columns</p>\n</div>"
     },
     "execution_count": 5,
     "metadata": {},
     "output_type": "execute_result"
    }
   ],
   "source": [
    "# Load the Chronos pipeline\n",
    "pipeline_tiny = ChronosPipeline.from_pretrained(\n",
    "    \"amazon/chronos-t5-tiny\",\n",
    "    device_map=\"cpu\",\n",
    "    torch_dtype=torch.bfloat16,\n",
    ")\n",
    "\n",
    "# Run forecast\n",
    "forecast_tiny = []\n",
    "for ts in train_darts:\n",
    "    # Tiny forecast\n",
    "    lower, mid, upper = utils.chronos_forecast(pipeline_tiny, ts.pd_dataframe().reset_index(), FORECAST_HORIZON)\n",
    "    forecast_tiny.append(utils.convert_forecast_to_pandas([lower, mid, upper], test[test['unique_id'] == str(int(list(ts.static_covariates_values())[0][0]))+'-'+str(int(list(ts.static_covariates_values())[0][1]))]))\n",
    "\n",
    "# Convert list to data frames\n",
    "forecast_tiny = pd.concat(forecast_tiny)\n",
    "forecast_tiny"
   ],
   "metadata": {
    "collapsed": false,
    "ExecuteTime": {
     "end_time": "2024-04-01T14:47:42.975003Z",
     "start_time": "2024-04-01T14:47:11.840641Z"
    }
   },
   "id": "aa1dde4bbf518d4e",
   "execution_count": 5
  },
  {
   "cell_type": "markdown",
   "source": [
    "### Evaluate forecast with residuals"
   ],
   "metadata": {
    "collapsed": false
   },
   "id": "50e3693a4afa272e"
  },
  {
   "cell_type": "code",
   "outputs": [
    {
     "data": {
      "text/plain": "       unique_id       Date     residuals\n5218        1-38 2012-01-06  17100.859063\n5219        1-38 2012-01-13   6055.530313\n9041        1-90 2012-01-06   5973.558438\n9042        1-90 2012-01-13     75.760625\n9327        1-92 2012-01-06   7405.376875\n...          ...        ...           ...\n397113     42-92 2012-01-13   4844.255469\n403859     43-92 2012-01-06   5428.093438\n403860     43-92 2012-01-13   4853.794375\n404288     43-95 2012-01-06   5351.319687\n404289     43-95 2012-01-13  -1021.164219\n\n[200 rows x 3 columns]",
      "text/html": "<div>\n<style scoped>\n    .dataframe tbody tr th:only-of-type {\n        vertical-align: middle;\n    }\n\n    .dataframe tbody tr th {\n        vertical-align: top;\n    }\n\n    .dataframe thead th {\n        text-align: right;\n    }\n</style>\n<table border=\"1\" class=\"dataframe\">\n  <thead>\n    <tr style=\"text-align: right;\">\n      <th></th>\n      <th>unique_id</th>\n      <th>Date</th>\n      <th>residuals</th>\n    </tr>\n  </thead>\n  <tbody>\n    <tr>\n      <th>5218</th>\n      <td>1-38</td>\n      <td>2012-01-06</td>\n      <td>17100.859063</td>\n    </tr>\n    <tr>\n      <th>5219</th>\n      <td>1-38</td>\n      <td>2012-01-13</td>\n      <td>6055.530313</td>\n    </tr>\n    <tr>\n      <th>9041</th>\n      <td>1-90</td>\n      <td>2012-01-06</td>\n      <td>5973.558438</td>\n    </tr>\n    <tr>\n      <th>9042</th>\n      <td>1-90</td>\n      <td>2012-01-13</td>\n      <td>75.760625</td>\n    </tr>\n    <tr>\n      <th>9327</th>\n      <td>1-92</td>\n      <td>2012-01-06</td>\n      <td>7405.376875</td>\n    </tr>\n    <tr>\n      <th>...</th>\n      <td>...</td>\n      <td>...</td>\n      <td>...</td>\n    </tr>\n    <tr>\n      <th>397113</th>\n      <td>42-92</td>\n      <td>2012-01-13</td>\n      <td>4844.255469</td>\n    </tr>\n    <tr>\n      <th>403859</th>\n      <td>43-92</td>\n      <td>2012-01-06</td>\n      <td>5428.093438</td>\n    </tr>\n    <tr>\n      <th>403860</th>\n      <td>43-92</td>\n      <td>2012-01-13</td>\n      <td>4853.794375</td>\n    </tr>\n    <tr>\n      <th>404288</th>\n      <td>43-95</td>\n      <td>2012-01-06</td>\n      <td>5351.319687</td>\n    </tr>\n    <tr>\n      <th>404289</th>\n      <td>43-95</td>\n      <td>2012-01-13</td>\n      <td>-1021.164219</td>\n    </tr>\n  </tbody>\n</table>\n<p>200 rows × 3 columns</p>\n</div>"
     },
     "execution_count": 6,
     "metadata": {},
     "output_type": "execute_result"
    }
   ],
   "source": [
    "residuals = pd.DataFrame(test[[\"unique_id\", \"Date\"]])\n",
    "residuals[\"residuals\"] = test[\"Weekly_Sales\"] - forecast_tiny[\"forecast\"]\n",
    "residuals"
   ],
   "metadata": {
    "collapsed": false,
    "ExecuteTime": {
     "end_time": "2024-04-01T14:47:43.086874Z",
     "start_time": "2024-04-01T14:47:42.976853Z"
    }
   },
   "id": "c7693ba2069cbebb",
   "execution_count": 6
  },
  {
   "cell_type": "markdown",
   "source": [
    "pipeline_large = ChronosPipeline.from_pretrained(\n",
    "  \"amazon/chronos-t5-large\",\n",
    "  device_map=\"cpu\",\n",
    "  torch_dtype=torch.bfloat16,\n",
    ")\n",
    "\n",
    "# run forecast\n",
    "forecast_large = []\n",
    "for ts in train_darts:\n",
    "    # large\n",
    "    lower, mid, upper = utils.chronos_forecast(pipeline_large, ts.pd_dataframe().reset_index(), FORECAST_HORIZON)\n",
    "    forecast_large.append(utils.convert_forecast_to_pandas([lower, mid, upper], test[test['unique_id'] == str(int(list(ts.static_covariates_values())[0][0]))+'-'+str(int(list(ts.static_covariates_values())[0][1]))]))\n",
    "\n",
    "# convert list to data frames\n",
    "forecast_large = pd.concat(forecast_large)"
   ],
   "metadata": {
    "collapsed": false
   },
   "id": "fd88b2dd66ad3c76"
  },
  {
   "cell_type": "markdown",
   "source": [
    "# Get series ordered by volume in a descending way\n",
    "series = test.groupby('unique_id')[TARGET].sum().reset_index().sort_values(by=TARGET, ascending=False)['unique_id'].tolist()\n",
    "\n",
    "for ts in series[:2]:\n",
    "    utils.plot_actuals_forecast(df[df[\"unique_id\"]==ts], forecast_tiny[forecast_tiny[\"unique_id\"] == ts], ts)\n",
    "    # utils.plot_actuals_forecast(df[df[\"unique_id\"]==ts], forecast_large[forecast_large[\"unique_id\"] == ts], ts)\n"
   ],
   "metadata": {
    "collapsed": false
   },
   "id": "dfa124223d457c30"
  }
 ],
 "metadata": {
  "kernelspec": {
   "display_name": "Python 3",
   "language": "python",
   "name": "python3"
  },
  "language_info": {
   "codemirror_mode": {
    "name": "ipython",
    "version": 2
   },
   "file_extension": ".py",
   "mimetype": "text/x-python",
   "name": "python",
   "nbconvert_exporter": "python",
   "pygments_lexer": "ipython2",
   "version": "2.7.6"
  }
 },
 "nbformat": 4,
 "nbformat_minor": 5
}
