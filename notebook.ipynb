{
 "cells": [
  {
   "cell_type": "code",
   "execution_count": 1,
   "id": "initial_id",
   "metadata": {
    "collapsed": true,
    "ExecuteTime": {
     "end_time": "2024-03-11T16:09:21.677136Z",
     "start_time": "2024-03-11T16:09:20.146271Z"
    }
   },
   "outputs": [
    {
     "data": {
      "text/plain": "            Store  Dept  Weekly_Sales  IsHoliday\nDate                                            \n2010-02-05      1     1      24924.50      False\n2010-02-12      1     1      46039.49       True\n2010-02-19      1     1      41595.55      False\n2010-02-26      1     1      19403.54      False\n2010-03-05      1     1      21827.90      False\n...           ...   ...           ...        ...\n2012-09-28     45    98        508.37      False\n2012-10-05     45    98        628.10      False\n2012-10-12     45    98       1061.02      False\n2012-10-19     45    98        760.01      False\n2012-10-26     45    98       1076.80      False\n\n[421570 rows x 4 columns]",
      "text/html": "<div>\n<style scoped>\n    .dataframe tbody tr th:only-of-type {\n        vertical-align: middle;\n    }\n\n    .dataframe tbody tr th {\n        vertical-align: top;\n    }\n\n    .dataframe thead th {\n        text-align: right;\n    }\n</style>\n<table border=\"1\" class=\"dataframe\">\n  <thead>\n    <tr style=\"text-align: right;\">\n      <th></th>\n      <th>Store</th>\n      <th>Dept</th>\n      <th>Weekly_Sales</th>\n      <th>IsHoliday</th>\n    </tr>\n    <tr>\n      <th>Date</th>\n      <th></th>\n      <th></th>\n      <th></th>\n      <th></th>\n    </tr>\n  </thead>\n  <tbody>\n    <tr>\n      <th>2010-02-05</th>\n      <td>1</td>\n      <td>1</td>\n      <td>24924.50</td>\n      <td>False</td>\n    </tr>\n    <tr>\n      <th>2010-02-12</th>\n      <td>1</td>\n      <td>1</td>\n      <td>46039.49</td>\n      <td>True</td>\n    </tr>\n    <tr>\n      <th>2010-02-19</th>\n      <td>1</td>\n      <td>1</td>\n      <td>41595.55</td>\n      <td>False</td>\n    </tr>\n    <tr>\n      <th>2010-02-26</th>\n      <td>1</td>\n      <td>1</td>\n      <td>19403.54</td>\n      <td>False</td>\n    </tr>\n    <tr>\n      <th>2010-03-05</th>\n      <td>1</td>\n      <td>1</td>\n      <td>21827.90</td>\n      <td>False</td>\n    </tr>\n    <tr>\n      <th>...</th>\n      <td>...</td>\n      <td>...</td>\n      <td>...</td>\n      <td>...</td>\n    </tr>\n    <tr>\n      <th>2012-09-28</th>\n      <td>45</td>\n      <td>98</td>\n      <td>508.37</td>\n      <td>False</td>\n    </tr>\n    <tr>\n      <th>2012-10-05</th>\n      <td>45</td>\n      <td>98</td>\n      <td>628.10</td>\n      <td>False</td>\n    </tr>\n    <tr>\n      <th>2012-10-12</th>\n      <td>45</td>\n      <td>98</td>\n      <td>1061.02</td>\n      <td>False</td>\n    </tr>\n    <tr>\n      <th>2012-10-19</th>\n      <td>45</td>\n      <td>98</td>\n      <td>760.01</td>\n      <td>False</td>\n    </tr>\n    <tr>\n      <th>2012-10-26</th>\n      <td>45</td>\n      <td>98</td>\n      <td>1076.80</td>\n      <td>False</td>\n    </tr>\n  </tbody>\n</table>\n<p>421570 rows × 4 columns</p>\n</div>"
     },
     "execution_count": 1,
     "metadata": {},
     "output_type": "execute_result"
    }
   ],
   "source": [
    "import pandas as pd\n",
    "from darts import TimeSeries\n",
    "from darts.dataprocessing.transformers import Scaler\n",
    "\n",
    "train = pd.read_csv('data/train.csv') \n",
    "\n",
    "train['id'] = train['Store'].astype(str)+'-'+train['Dept'].astype(str)\n",
    "\n",
    "series = train.groupby('id').agg({'Date':'max'}).reset_index() series = series[series['Date'] == max(train['Date'])]['id'].tolist()\n",
    "\n",
    "df = train[train['id'].isin(series)]\n",
    "\n",
    "# train.to_csv('data/train_filtered.csv', index=False)\n",
    "\n",
    "df['Date'] = pd.to_datetime(df['Date'], format='%Y-%m-%d')\n",
    "df['IsHoliday'] = df['IsHoliday'].astype('bool')\n",
    "\n",
    "df.set_index('Date', inplace=True)\n",
    "df"
   ]
  },
  {
   "cell_type": "code",
   "outputs": [],
   "source": [
    "#df.loc[0, 'Date'].day_name()"
   ],
   "metadata": {
    "collapsed": false
   },
   "id": "f9e0d4185db4114f",
   "execution_count": 2
  },
  {
   "cell_type": "code",
   "outputs": [],
   "source": [
    "#df.drop(columns=[\"Store\", \"Dept\"], inplace=True)"
   ],
   "metadata": {
    "collapsed": false
   },
   "id": "a0f917a8bd45033c",
   "execution_count": 3
  },
  {
   "cell_type": "code",
   "outputs": [],
   "source": [
    "# df.drop_duplicates(subset='Date', inplace=True)\n",
    "# df.set_index('Date', inplace=True)"
   ],
   "metadata": {
    "collapsed": false,
    "ExecuteTime": {
     "end_time": "2024-03-11T16:09:21.685545Z",
     "start_time": "2024-03-11T16:09:21.683714Z"
    }
   },
   "id": "84ba96f43ecc9d85",
   "execution_count": 4
  },
  {
   "cell_type": "code",
   "outputs": [],
   "source": [
    "series = TimeSeries.from_group_dataframe(df=df,\n",
    "                                         group_cols=[\"Store\", \"Dept\",\"IsHoliday\"],\n",
    "                                         value_cols=\"Weekly_Sales\",\n",
    "                                         freq=\"W-FRI\", fill_missing_dates=True,\n",
    "                                         fillna_value=0)"
   ],
   "metadata": {
    "collapsed": false,
    "ExecuteTime": {
     "end_time": "2024-03-11T16:09:42.829199Z",
     "start_time": "2024-03-11T16:09:21.686390Z"
    }
   },
   "id": "d88a2d7c19b0bb0c",
   "execution_count": 5
  },
  {
   "cell_type": "code",
   "outputs": [],
   "source": [],
   "metadata": {
    "collapsed": false,
    "ExecuteTime": {
     "end_time": "2024-03-11T17:36:02.690484Z",
     "start_time": "2024-03-11T17:36:02.688251Z"
    }
   },
   "id": "d8357a547dc49c07",
   "execution_count": 6
  }
 ],
 "metadata": {
  "kernelspec": {
   "display_name": "Python 3",
   "language": "python",
   "name": "python3"
  },
  "language_info": {
   "codemirror_mode": {
    "name": "ipython",
    "version": 2
   },
   "file_extension": ".py",
   "mimetype": "text/x-python",
   "name": "python",
   "nbconvert_exporter": "python",
   "pygments_lexer": "ipython2",
   "version": "2.7.6"
  }
 },
 "nbformat": 4,
 "nbformat_minor": 5
}
