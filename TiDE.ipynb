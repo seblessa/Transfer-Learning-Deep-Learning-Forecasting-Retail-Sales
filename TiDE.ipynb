{
 "cells": [
  {
   "cell_type": "markdown",
   "metadata": {},
   "source": [
    "## Import Libraries"
   ]
  },
  {
   "cell_type": "code",
   "execution_count": 7,
   "metadata": {
    "ExecuteTime": {
     "end_time": "2024-03-11T18:08:51.847564Z",
     "start_time": "2024-03-11T18:08:51.841402Z"
    }
   },
   "outputs": [],
   "source": [
    "import pandas as pd\n",
    "import plotly.express as px\n",
    "import numpy as np\n",
    "from darts import TimeSeries\n",
    "from darts.models import TiDEModel\n",
    "from darts.dataprocessing.transformers import Scaler\n",
    "from darts.utils.timeseries_generation import datetime_attribute_timeseries\n",
    "from darts.utils.likelihood_models import QuantileRegression\n",
    "from darts.dataprocessing.transformers import StaticCovariatesTransformer"
   ]
  },
  {
   "cell_type": "markdown",
   "metadata": {},
   "source": [
    "## Global Variables"
   ]
  },
  {
   "cell_type": "code",
   "execution_count": 8,
   "metadata": {
    "ExecuteTime": {
     "end_time": "2024-03-11T18:08:51.889482Z",
     "start_time": "2024-03-11T18:08:51.885539Z"
    }
   },
   "outputs": [],
   "source": [
    "TIME_COL = \"Date\"\n",
    "TARGET = \"Weekly_Sales\"\n",
    "STATIC_COV = [\"Store\", \"Dept\"]\n",
    "FREQ = \"W-FRI\"\n",
    "SCALER = Scaler()\n",
    "TRANSFORMER = StaticCovariatesTransformer()"
   ]
  },
  {
   "cell_type": "markdown",
   "metadata": {},
   "source": [
    "## Read and Transform data into Darts Format"
   ]
  },
  {
   "cell_type": "markdown",
   "source": [
    "train = pd.read_csv('data/train.csv')\n",
    "train['id'] = train['Store'].astype(str)+'-'+train['Dept'].astype(str)\n",
    "\n",
    "series = train.groupby('id').agg({'Date':'max'}).reset_index()\n",
    "series = series[series['Date'] == max(train['Date'])]['id'].tolist()\n",
    "\n",
    "train = train[train['id'].isin(series)]\n",
    "\n",
    "train.to_csv('data/train_filtered.csv', index=False)"
   ],
   "metadata": {
    "collapsed": false
   }
  },
  {
   "cell_type": "code",
   "execution_count": 9,
   "metadata": {
    "ExecuteTime": {
     "end_time": "2024-03-11T18:09:07.500735Z",
     "start_time": "2024-03-11T18:08:51.903894Z"
    }
   },
   "outputs": [],
   "source": [
    "# read train and test datasets and transform train dataset\n",
    "train = pd.read_csv('data/train_filtered.csv')\n",
    "\n",
    "train[\"Date\"] = pd.to_datetime(train[\"Date\"])\n",
    "train[TARGET] = np.where(train[TARGET] < 0, 0, train[TARGET])\n",
    "train_darts = TimeSeries.from_group_dataframe(df=train, group_cols=STATIC_COV, time_col=TIME_COL, value_cols=TARGET, freq=FREQ, fill_missing_dates=True, fillna_value=0)\n",
    "\n",
    "# read test dataset and determin Forecast Horizon\n",
    "test = pd.read_csv('data/test.csv')\n",
    "test[\"Date\"] = pd.to_datetime(test[\"Date\"])\n",
    "FORECAST_HORIZON = len(test['Date'].unique())"
   ]
  },
  {
   "cell_type": "markdown",
   "metadata": {},
   "source": [
    "## Create Dynamic Covariates"
   ]
  },
  {
   "cell_type": "code",
   "execution_count": 10,
   "metadata": {
    "ExecuteTime": {
     "end_time": "2024-03-11T18:09:07.572750Z",
     "start_time": "2024-03-11T18:09:07.503764Z"
    }
   },
   "outputs": [],
   "source": [
    "# we get the holiday data that we have in both train and test dataset\n",
    "holidays_df = pd.concat([train[[\"Date\", \"IsHoliday\"]], test[[\"Date\", \"IsHoliday\"]]]).drop_duplicates()\n",
    "# convert bool to numeric\n",
    "holidays_df[\"IsHoliday\"] = holidays_df[\"IsHoliday\"]*1\n"
   ]
  },
  {
   "cell_type": "code",
   "execution_count": 11,
   "metadata": {
    "ExecuteTime": {
     "end_time": "2024-03-11T18:10:11.036441Z",
     "start_time": "2024-03-11T18:09:07.573717Z"
    }
   },
   "outputs": [],
   "source": [
    "# create dynamic covariates for each serie in the training darts\n",
    "dynamic_covariates = []\n",
    "for serie in train_darts:\n",
    "    # add the month and week as a covariate\n",
    "    covariate = datetime_attribute_timeseries(\n",
    "        serie,\n",
    "        attribute=\"month\",\n",
    "        one_hot=True,\n",
    "        cyclic=False,\n",
    "        add_length=FORECAST_HORIZON,\n",
    "    )\n",
    "    covariate = covariate.stack(\n",
    "        datetime_attribute_timeseries(\n",
    "            serie,\n",
    "            attribute=\"week\",\n",
    "            one_hot=True,\n",
    "            cyclic=False,\n",
    "            add_length=FORECAST_HORIZON,\n",
    "        )\n",
    "    )\n",
    "    # create holidays with dates for training and test\n",
    "    holidays_serie = pd.merge(pd.DataFrame(covariate.time_index).rename(columns={'time':'Date'}), holidays_df, on='Date', how='left')\n",
    "    covariate = covariate.stack(\n",
    "                TimeSeries.from_dataframe(holidays_serie, time_col=\"Date\", value_cols=\"IsHoliday\", freq=FREQ)\n",
    "            )\n",
    "    dynamic_covariates.append(covariate)"
   ]
  },
  {
   "cell_type": "markdown",
   "metadata": {},
   "source": [
    "## Transform Data for TiDE"
   ]
  },
  {
   "cell_type": "code",
   "execution_count": 12,
   "metadata": {
    "ExecuteTime": {
     "end_time": "2024-03-11T18:10:48.393693Z",
     "start_time": "2024-03-11T18:10:11.039394Z"
    }
   },
   "outputs": [],
   "source": [
    "# scale covariates\n",
    "dynamic_covariates_transformed = SCALER.fit_transform(dynamic_covariates)\n",
    "\n",
    "# scale data\n",
    "data_transformed = SCALER.fit_transform(train_darts)\n",
    "\n",
    "# transform static covariates\n",
    "data_transformed = TRANSFORMER.fit_transform(data_transformed)"
   ]
  },
  {
   "cell_type": "markdown",
   "metadata": {},
   "source": [
    "## TiDE"
   ]
  },
  {
   "cell_type": "code",
   "outputs": [
    {
     "data": {
      "text/plain": "<TimeSeries (DataArray) (time: 182, component: 65, sample: 1)> Size: 95kB\narray([[[0.],\n        [1.],\n        [0.],\n        ...,\n        [0.],\n        [0.],\n        [0.]],\n\n       [[0.],\n        [1.],\n        [0.],\n        ...,\n        [0.],\n        [0.],\n        [1.]],\n\n       [[0.],\n        [1.],\n        [0.],\n        ...,\n...\n        ...,\n        [0.],\n        [0.],\n        [0.]],\n\n       [[0.],\n        [0.],\n        [0.],\n        ...,\n        [0.],\n        [0.],\n        [0.]],\n\n       [[0.],\n        [0.],\n        [0.],\n        ...,\n        [0.],\n        [0.],\n        [0.]]])\nCoordinates:\n  * time       (time) datetime64[ns] 1kB 2010-02-05 2010-02-12 ... 2013-07-26\n  * component  (component) object 520B 'month_1' 'month_2' ... 'IsHoliday'\nDimensions without coordinates: sample\nAttributes:\n    static_covariates:  None\n    hierarchy:          None",
      "text/html": "<div><svg style=\"position: absolute; width: 0; height: 0; overflow: hidden\">\n<defs>\n<symbol id=\"icon-database\" viewBox=\"0 0 32 32\">\n<path d=\"M16 0c-8.837 0-16 2.239-16 5v4c0 2.761 7.163 5 16 5s16-2.239 16-5v-4c0-2.761-7.163-5-16-5z\"></path>\n<path d=\"M16 17c-8.837 0-16-2.239-16-5v6c0 2.761 7.163 5 16 5s16-2.239 16-5v-6c0 2.761-7.163 5-16 5z\"></path>\n<path d=\"M16 26c-8.837 0-16-2.239-16-5v6c0 2.761 7.163 5 16 5s16-2.239 16-5v-6c0 2.761-7.163 5-16 5z\"></path>\n</symbol>\n<symbol id=\"icon-file-text2\" viewBox=\"0 0 32 32\">\n<path d=\"M28.681 7.159c-0.694-0.947-1.662-2.053-2.724-3.116s-2.169-2.030-3.116-2.724c-1.612-1.182-2.393-1.319-2.841-1.319h-15.5c-1.378 0-2.5 1.121-2.5 2.5v27c0 1.378 1.122 2.5 2.5 2.5h23c1.378 0 2.5-1.122 2.5-2.5v-19.5c0-0.448-0.137-1.23-1.319-2.841zM24.543 5.457c0.959 0.959 1.712 1.825 2.268 2.543h-4.811v-4.811c0.718 0.556 1.584 1.309 2.543 2.268zM28 29.5c0 0.271-0.229 0.5-0.5 0.5h-23c-0.271 0-0.5-0.229-0.5-0.5v-27c0-0.271 0.229-0.5 0.5-0.5 0 0 15.499-0 15.5 0v7c0 0.552 0.448 1 1 1h7v19.5z\"></path>\n<path d=\"M23 26h-14c-0.552 0-1-0.448-1-1s0.448-1 1-1h14c0.552 0 1 0.448 1 1s-0.448 1-1 1z\"></path>\n<path d=\"M23 22h-14c-0.552 0-1-0.448-1-1s0.448-1 1-1h14c0.552 0 1 0.448 1 1s-0.448 1-1 1z\"></path>\n<path d=\"M23 18h-14c-0.552 0-1-0.448-1-1s0.448-1 1-1h14c0.552 0 1 0.448 1 1s-0.448 1-1 1z\"></path>\n</symbol>\n</defs>\n</svg>\n<style>/* CSS stylesheet for displaying xarray objects in jupyterlab.\n *\n */\n\n:root {\n  --xr-font-color0: var(--jp-content-font-color0, rgba(0, 0, 0, 1));\n  --xr-font-color2: var(--jp-content-font-color2, rgba(0, 0, 0, 0.54));\n  --xr-font-color3: var(--jp-content-font-color3, rgba(0, 0, 0, 0.38));\n  --xr-border-color: var(--jp-border-color2, #e0e0e0);\n  --xr-disabled-color: var(--jp-layout-color3, #bdbdbd);\n  --xr-background-color: var(--jp-layout-color0, white);\n  --xr-background-color-row-even: var(--jp-layout-color1, white);\n  --xr-background-color-row-odd: var(--jp-layout-color2, #eeeeee);\n}\n\nhtml[theme=dark],\nbody[data-theme=dark],\nbody.vscode-dark {\n  --xr-font-color0: rgba(255, 255, 255, 1);\n  --xr-font-color2: rgba(255, 255, 255, 0.54);\n  --xr-font-color3: rgba(255, 255, 255, 0.38);\n  --xr-border-color: #1F1F1F;\n  --xr-disabled-color: #515151;\n  --xr-background-color: #111111;\n  --xr-background-color-row-even: #111111;\n  --xr-background-color-row-odd: #313131;\n}\n\n.xr-wrap {\n  display: block !important;\n  min-width: 300px;\n  max-width: 700px;\n}\n\n.xr-text-repr-fallback {\n  /* fallback to plain text repr when CSS is not injected (untrusted notebook) */\n  display: none;\n}\n\n.xr-header {\n  padding-top: 6px;\n  padding-bottom: 6px;\n  margin-bottom: 4px;\n  border-bottom: solid 1px var(--xr-border-color);\n}\n\n.xr-header > div,\n.xr-header > ul {\n  display: inline;\n  margin-top: 0;\n  margin-bottom: 0;\n}\n\n.xr-obj-type,\n.xr-array-name {\n  margin-left: 2px;\n  margin-right: 10px;\n}\n\n.xr-obj-type {\n  color: var(--xr-font-color2);\n}\n\n.xr-sections {\n  padding-left: 0 !important;\n  display: grid;\n  grid-template-columns: 150px auto auto 1fr 20px 20px;\n}\n\n.xr-section-item {\n  display: contents;\n}\n\n.xr-section-item input {\n  display: none;\n}\n\n.xr-section-item input + label {\n  color: var(--xr-disabled-color);\n}\n\n.xr-section-item input:enabled + label {\n  cursor: pointer;\n  color: var(--xr-font-color2);\n}\n\n.xr-section-item input:enabled + label:hover {\n  color: var(--xr-font-color0);\n}\n\n.xr-section-summary {\n  grid-column: 1;\n  color: var(--xr-font-color2);\n  font-weight: 500;\n}\n\n.xr-section-summary > span {\n  display: inline-block;\n  padding-left: 0.5em;\n}\n\n.xr-section-summary-in:disabled + label {\n  color: var(--xr-font-color2);\n}\n\n.xr-section-summary-in + label:before {\n  display: inline-block;\n  content: '►';\n  font-size: 11px;\n  width: 15px;\n  text-align: center;\n}\n\n.xr-section-summary-in:disabled + label:before {\n  color: var(--xr-disabled-color);\n}\n\n.xr-section-summary-in:checked + label:before {\n  content: '▼';\n}\n\n.xr-section-summary-in:checked + label > span {\n  display: none;\n}\n\n.xr-section-summary,\n.xr-section-inline-details {\n  padding-top: 4px;\n  padding-bottom: 4px;\n}\n\n.xr-section-inline-details {\n  grid-column: 2 / -1;\n}\n\n.xr-section-details {\n  display: none;\n  grid-column: 1 / -1;\n  margin-bottom: 5px;\n}\n\n.xr-section-summary-in:checked ~ .xr-section-details {\n  display: contents;\n}\n\n.xr-array-wrap {\n  grid-column: 1 / -1;\n  display: grid;\n  grid-template-columns: 20px auto;\n}\n\n.xr-array-wrap > label {\n  grid-column: 1;\n  vertical-align: top;\n}\n\n.xr-preview {\n  color: var(--xr-font-color3);\n}\n\n.xr-array-preview,\n.xr-array-data {\n  padding: 0 5px !important;\n  grid-column: 2;\n}\n\n.xr-array-data,\n.xr-array-in:checked ~ .xr-array-preview {\n  display: none;\n}\n\n.xr-array-in:checked ~ .xr-array-data,\n.xr-array-preview {\n  display: inline-block;\n}\n\n.xr-dim-list {\n  display: inline-block !important;\n  list-style: none;\n  padding: 0 !important;\n  margin: 0;\n}\n\n.xr-dim-list li {\n  display: inline-block;\n  padding: 0;\n  margin: 0;\n}\n\n.xr-dim-list:before {\n  content: '(';\n}\n\n.xr-dim-list:after {\n  content: ')';\n}\n\n.xr-dim-list li:not(:last-child):after {\n  content: ',';\n  padding-right: 5px;\n}\n\n.xr-has-index {\n  font-weight: bold;\n}\n\n.xr-var-list,\n.xr-var-item {\n  display: contents;\n}\n\n.xr-var-item > div,\n.xr-var-item label,\n.xr-var-item > .xr-var-name span {\n  background-color: var(--xr-background-color-row-even);\n  margin-bottom: 0;\n}\n\n.xr-var-item > .xr-var-name:hover span {\n  padding-right: 5px;\n}\n\n.xr-var-list > li:nth-child(odd) > div,\n.xr-var-list > li:nth-child(odd) > label,\n.xr-var-list > li:nth-child(odd) > .xr-var-name span {\n  background-color: var(--xr-background-color-row-odd);\n}\n\n.xr-var-name {\n  grid-column: 1;\n}\n\n.xr-var-dims {\n  grid-column: 2;\n}\n\n.xr-var-dtype {\n  grid-column: 3;\n  text-align: right;\n  color: var(--xr-font-color2);\n}\n\n.xr-var-preview {\n  grid-column: 4;\n}\n\n.xr-index-preview {\n  grid-column: 2 / 5;\n  color: var(--xr-font-color2);\n}\n\n.xr-var-name,\n.xr-var-dims,\n.xr-var-dtype,\n.xr-preview,\n.xr-attrs dt {\n  white-space: nowrap;\n  overflow: hidden;\n  text-overflow: ellipsis;\n  padding-right: 10px;\n}\n\n.xr-var-name:hover,\n.xr-var-dims:hover,\n.xr-var-dtype:hover,\n.xr-attrs dt:hover {\n  overflow: visible;\n  width: auto;\n  z-index: 1;\n}\n\n.xr-var-attrs,\n.xr-var-data,\n.xr-index-data {\n  display: none;\n  background-color: var(--xr-background-color) !important;\n  padding-bottom: 5px !important;\n}\n\n.xr-var-attrs-in:checked ~ .xr-var-attrs,\n.xr-var-data-in:checked ~ .xr-var-data,\n.xr-index-data-in:checked ~ .xr-index-data {\n  display: block;\n}\n\n.xr-var-data > table {\n  float: right;\n}\n\n.xr-var-name span,\n.xr-var-data,\n.xr-index-name div,\n.xr-index-data,\n.xr-attrs {\n  padding-left: 25px !important;\n}\n\n.xr-attrs,\n.xr-var-attrs,\n.xr-var-data,\n.xr-index-data {\n  grid-column: 1 / -1;\n}\n\ndl.xr-attrs {\n  padding: 0;\n  margin: 0;\n  display: grid;\n  grid-template-columns: 125px auto;\n}\n\n.xr-attrs dt,\n.xr-attrs dd {\n  padding: 0;\n  margin: 0;\n  float: left;\n  padding-right: 10px;\n  width: auto;\n}\n\n.xr-attrs dt {\n  font-weight: normal;\n  grid-column: 1;\n}\n\n.xr-attrs dt:hover span {\n  display: inline-block;\n  background: var(--xr-background-color);\n  padding-right: 10px;\n}\n\n.xr-attrs dd {\n  grid-column: 2;\n  white-space: pre-wrap;\n  word-break: break-all;\n}\n\n.xr-icon-database,\n.xr-icon-file-text2,\n.xr-no-icon {\n  display: inline-block;\n  vertical-align: middle;\n  width: 1em;\n  height: 1.5em !important;\n  stroke-width: 0;\n  stroke: currentColor;\n  fill: currentColor;\n}\n</style><pre class='xr-text-repr-fallback'>&lt;TimeSeries (DataArray) (time: 182, component: 65, sample: 1)&gt; Size: 95kB\narray([[[0.],\n        [1.],\n        [0.],\n        ...,\n        [0.],\n        [0.],\n        [0.]],\n\n       [[0.],\n        [1.],\n        [0.],\n        ...,\n        [0.],\n        [0.],\n        [1.]],\n\n       [[0.],\n        [1.],\n        [0.],\n        ...,\n...\n        ...,\n        [0.],\n        [0.],\n        [0.]],\n\n       [[0.],\n        [0.],\n        [0.],\n        ...,\n        [0.],\n        [0.],\n        [0.]],\n\n       [[0.],\n        [0.],\n        [0.],\n        ...,\n        [0.],\n        [0.],\n        [0.]]])\nCoordinates:\n  * time       (time) datetime64[ns] 1kB 2010-02-05 2010-02-12 ... 2013-07-26\n  * component  (component) object 520B &#x27;month_1&#x27; &#x27;month_2&#x27; ... &#x27;IsHoliday&#x27;\nDimensions without coordinates: sample\nAttributes:\n    static_covariates:  None\n    hierarchy:          None</pre><div class='xr-wrap' style='display:none'><div class='xr-header'><div class='xr-obj-type'>TimeSeries (DataArray)</div><div class='xr-array-name'></div><ul class='xr-dim-list'><li><span class='xr-has-index'>time</span>: 182</li><li><span class='xr-has-index'>component</span>: 65</li><li><span>sample</span>: 1</li></ul></div><ul class='xr-sections'><li class='xr-section-item'><div class='xr-array-wrap'><input id='section-b3ee6b75-4c84-4d96-a6c8-9b1a267c6a04' class='xr-array-in' type='checkbox' checked><label for='section-b3ee6b75-4c84-4d96-a6c8-9b1a267c6a04' title='Show/hide data repr'><svg class='icon xr-icon-database'><use xlink:href='#icon-database'></use></svg></label><div class='xr-array-preview xr-preview'><span>0.0 1.0 0.0 0.0 0.0 0.0 0.0 0.0 ... 0.0 0.0 0.0 0.0 0.0 0.0 0.0 0.0</span></div><div class='xr-array-data'><pre>array([[[0.],\n        [1.],\n        [0.],\n        ...,\n        [0.],\n        [0.],\n        [0.]],\n\n       [[0.],\n        [1.],\n        [0.],\n        ...,\n        [0.],\n        [0.],\n        [1.]],\n\n       [[0.],\n        [1.],\n        [0.],\n        ...,\n...\n        ...,\n        [0.],\n        [0.],\n        [0.]],\n\n       [[0.],\n        [0.],\n        [0.],\n        ...,\n        [0.],\n        [0.],\n        [0.]],\n\n       [[0.],\n        [0.],\n        [0.],\n        ...,\n        [0.],\n        [0.],\n        [0.]]])</pre></div></div></li><li class='xr-section-item'><input id='section-cddd8f57-1712-4d01-94b1-3ed6babc3893' class='xr-section-summary-in' type='checkbox'  checked><label for='section-cddd8f57-1712-4d01-94b1-3ed6babc3893' class='xr-section-summary' >Coordinates: <span>(2)</span></label><div class='xr-section-inline-details'></div><div class='xr-section-details'><ul class='xr-var-list'><li class='xr-var-item'><div class='xr-var-name'><span class='xr-has-index'>time</span></div><div class='xr-var-dims'>(time)</div><div class='xr-var-dtype'>datetime64[ns]</div><div class='xr-var-preview xr-preview'>2010-02-05 ... 2013-07-26</div><input id='attrs-5ebe628a-8644-4650-a2b2-a1b3f3785ec5' class='xr-var-attrs-in' type='checkbox' disabled><label for='attrs-5ebe628a-8644-4650-a2b2-a1b3f3785ec5' title='Show/Hide attributes'><svg class='icon xr-icon-file-text2'><use xlink:href='#icon-file-text2'></use></svg></label><input id='data-959ed87c-0ae9-4189-89e2-84fd0e364281' class='xr-var-data-in' type='checkbox'><label for='data-959ed87c-0ae9-4189-89e2-84fd0e364281' title='Show/Hide data repr'><svg class='icon xr-icon-database'><use xlink:href='#icon-database'></use></svg></label><div class='xr-var-attrs'><dl class='xr-attrs'></dl></div><div class='xr-var-data'><pre>array([&#x27;2010-02-05T00:00:00.000000000&#x27;, &#x27;2010-02-12T00:00:00.000000000&#x27;,\n       &#x27;2010-02-19T00:00:00.000000000&#x27;, &#x27;2010-02-26T00:00:00.000000000&#x27;,\n       &#x27;2010-03-05T00:00:00.000000000&#x27;, &#x27;2010-03-12T00:00:00.000000000&#x27;,\n       &#x27;2010-03-19T00:00:00.000000000&#x27;, &#x27;2010-03-26T00:00:00.000000000&#x27;,\n       &#x27;2010-04-02T00:00:00.000000000&#x27;, &#x27;2010-04-09T00:00:00.000000000&#x27;,\n       &#x27;2010-04-16T00:00:00.000000000&#x27;, &#x27;2010-04-23T00:00:00.000000000&#x27;,\n       &#x27;2010-04-30T00:00:00.000000000&#x27;, &#x27;2010-05-07T00:00:00.000000000&#x27;,\n       &#x27;2010-05-14T00:00:00.000000000&#x27;, &#x27;2010-05-21T00:00:00.000000000&#x27;,\n       &#x27;2010-05-28T00:00:00.000000000&#x27;, &#x27;2010-06-04T00:00:00.000000000&#x27;,\n       &#x27;2010-06-11T00:00:00.000000000&#x27;, &#x27;2010-06-18T00:00:00.000000000&#x27;,\n       &#x27;2010-06-25T00:00:00.000000000&#x27;, &#x27;2010-07-02T00:00:00.000000000&#x27;,\n       &#x27;2010-07-09T00:00:00.000000000&#x27;, &#x27;2010-07-16T00:00:00.000000000&#x27;,\n       &#x27;2010-07-23T00:00:00.000000000&#x27;, &#x27;2010-07-30T00:00:00.000000000&#x27;,\n       &#x27;2010-08-06T00:00:00.000000000&#x27;, &#x27;2010-08-13T00:00:00.000000000&#x27;,\n       &#x27;2010-08-20T00:00:00.000000000&#x27;, &#x27;2010-08-27T00:00:00.000000000&#x27;,\n       &#x27;2010-09-03T00:00:00.000000000&#x27;, &#x27;2010-09-10T00:00:00.000000000&#x27;,\n       &#x27;2010-09-17T00:00:00.000000000&#x27;, &#x27;2010-09-24T00:00:00.000000000&#x27;,\n       &#x27;2010-10-01T00:00:00.000000000&#x27;, &#x27;2010-10-08T00:00:00.000000000&#x27;,\n       &#x27;2010-10-15T00:00:00.000000000&#x27;, &#x27;2010-10-22T00:00:00.000000000&#x27;,\n       &#x27;2010-10-29T00:00:00.000000000&#x27;, &#x27;2010-11-05T00:00:00.000000000&#x27;,\n       &#x27;2010-11-12T00:00:00.000000000&#x27;, &#x27;2010-11-19T00:00:00.000000000&#x27;,\n       &#x27;2010-11-26T00:00:00.000000000&#x27;, &#x27;2010-12-03T00:00:00.000000000&#x27;,\n       &#x27;2010-12-10T00:00:00.000000000&#x27;, &#x27;2010-12-17T00:00:00.000000000&#x27;,\n       &#x27;2010-12-24T00:00:00.000000000&#x27;, &#x27;2010-12-31T00:00:00.000000000&#x27;,\n       &#x27;2011-01-07T00:00:00.000000000&#x27;, &#x27;2011-01-14T00:00:00.000000000&#x27;,\n       &#x27;2011-01-21T00:00:00.000000000&#x27;, &#x27;2011-01-28T00:00:00.000000000&#x27;,\n       &#x27;2011-02-04T00:00:00.000000000&#x27;, &#x27;2011-02-11T00:00:00.000000000&#x27;,\n       &#x27;2011-02-18T00:00:00.000000000&#x27;, &#x27;2011-02-25T00:00:00.000000000&#x27;,\n       &#x27;2011-03-04T00:00:00.000000000&#x27;, &#x27;2011-03-11T00:00:00.000000000&#x27;,\n       &#x27;2011-03-18T00:00:00.000000000&#x27;, &#x27;2011-03-25T00:00:00.000000000&#x27;,\n       &#x27;2011-04-01T00:00:00.000000000&#x27;, &#x27;2011-04-08T00:00:00.000000000&#x27;,\n       &#x27;2011-04-15T00:00:00.000000000&#x27;, &#x27;2011-04-22T00:00:00.000000000&#x27;,\n       &#x27;2011-04-29T00:00:00.000000000&#x27;, &#x27;2011-05-06T00:00:00.000000000&#x27;,\n       &#x27;2011-05-13T00:00:00.000000000&#x27;, &#x27;2011-05-20T00:00:00.000000000&#x27;,\n       &#x27;2011-05-27T00:00:00.000000000&#x27;, &#x27;2011-06-03T00:00:00.000000000&#x27;,\n       &#x27;2011-06-10T00:00:00.000000000&#x27;, &#x27;2011-06-17T00:00:00.000000000&#x27;,\n       &#x27;2011-06-24T00:00:00.000000000&#x27;, &#x27;2011-07-01T00:00:00.000000000&#x27;,\n       &#x27;2011-07-08T00:00:00.000000000&#x27;, &#x27;2011-07-15T00:00:00.000000000&#x27;,\n       &#x27;2011-07-22T00:00:00.000000000&#x27;, &#x27;2011-07-29T00:00:00.000000000&#x27;,\n       &#x27;2011-08-05T00:00:00.000000000&#x27;, &#x27;2011-08-12T00:00:00.000000000&#x27;,\n       &#x27;2011-08-19T00:00:00.000000000&#x27;, &#x27;2011-08-26T00:00:00.000000000&#x27;,\n       &#x27;2011-09-02T00:00:00.000000000&#x27;, &#x27;2011-09-09T00:00:00.000000000&#x27;,\n       &#x27;2011-09-16T00:00:00.000000000&#x27;, &#x27;2011-09-23T00:00:00.000000000&#x27;,\n       &#x27;2011-09-30T00:00:00.000000000&#x27;, &#x27;2011-10-07T00:00:00.000000000&#x27;,\n       &#x27;2011-10-14T00:00:00.000000000&#x27;, &#x27;2011-10-21T00:00:00.000000000&#x27;,\n       &#x27;2011-10-28T00:00:00.000000000&#x27;, &#x27;2011-11-04T00:00:00.000000000&#x27;,\n       &#x27;2011-11-11T00:00:00.000000000&#x27;, &#x27;2011-11-18T00:00:00.000000000&#x27;,\n       &#x27;2011-11-25T00:00:00.000000000&#x27;, &#x27;2011-12-02T00:00:00.000000000&#x27;,\n       &#x27;2011-12-09T00:00:00.000000000&#x27;, &#x27;2011-12-16T00:00:00.000000000&#x27;,\n       &#x27;2011-12-23T00:00:00.000000000&#x27;, &#x27;2011-12-30T00:00:00.000000000&#x27;,\n       &#x27;2012-01-06T00:00:00.000000000&#x27;, &#x27;2012-01-13T00:00:00.000000000&#x27;,\n       &#x27;2012-01-20T00:00:00.000000000&#x27;, &#x27;2012-01-27T00:00:00.000000000&#x27;,\n       &#x27;2012-02-03T00:00:00.000000000&#x27;, &#x27;2012-02-10T00:00:00.000000000&#x27;,\n       &#x27;2012-02-17T00:00:00.000000000&#x27;, &#x27;2012-02-24T00:00:00.000000000&#x27;,\n       &#x27;2012-03-02T00:00:00.000000000&#x27;, &#x27;2012-03-09T00:00:00.000000000&#x27;,\n       &#x27;2012-03-16T00:00:00.000000000&#x27;, &#x27;2012-03-23T00:00:00.000000000&#x27;,\n       &#x27;2012-03-30T00:00:00.000000000&#x27;, &#x27;2012-04-06T00:00:00.000000000&#x27;,\n       &#x27;2012-04-13T00:00:00.000000000&#x27;, &#x27;2012-04-20T00:00:00.000000000&#x27;,\n       &#x27;2012-04-27T00:00:00.000000000&#x27;, &#x27;2012-05-04T00:00:00.000000000&#x27;,\n       &#x27;2012-05-11T00:00:00.000000000&#x27;, &#x27;2012-05-18T00:00:00.000000000&#x27;,\n       &#x27;2012-05-25T00:00:00.000000000&#x27;, &#x27;2012-06-01T00:00:00.000000000&#x27;,\n       &#x27;2012-06-08T00:00:00.000000000&#x27;, &#x27;2012-06-15T00:00:00.000000000&#x27;,\n       &#x27;2012-06-22T00:00:00.000000000&#x27;, &#x27;2012-06-29T00:00:00.000000000&#x27;,\n       &#x27;2012-07-06T00:00:00.000000000&#x27;, &#x27;2012-07-13T00:00:00.000000000&#x27;,\n       &#x27;2012-07-20T00:00:00.000000000&#x27;, &#x27;2012-07-27T00:00:00.000000000&#x27;,\n       &#x27;2012-08-03T00:00:00.000000000&#x27;, &#x27;2012-08-10T00:00:00.000000000&#x27;,\n       &#x27;2012-08-17T00:00:00.000000000&#x27;, &#x27;2012-08-24T00:00:00.000000000&#x27;,\n       &#x27;2012-08-31T00:00:00.000000000&#x27;, &#x27;2012-09-07T00:00:00.000000000&#x27;,\n       &#x27;2012-09-14T00:00:00.000000000&#x27;, &#x27;2012-09-21T00:00:00.000000000&#x27;,\n       &#x27;2012-09-28T00:00:00.000000000&#x27;, &#x27;2012-10-05T00:00:00.000000000&#x27;,\n       &#x27;2012-10-12T00:00:00.000000000&#x27;, &#x27;2012-10-19T00:00:00.000000000&#x27;,\n       &#x27;2012-10-26T00:00:00.000000000&#x27;, &#x27;2012-11-02T00:00:00.000000000&#x27;,\n       &#x27;2012-11-09T00:00:00.000000000&#x27;, &#x27;2012-11-16T00:00:00.000000000&#x27;,\n       &#x27;2012-11-23T00:00:00.000000000&#x27;, &#x27;2012-11-30T00:00:00.000000000&#x27;,\n       &#x27;2012-12-07T00:00:00.000000000&#x27;, &#x27;2012-12-14T00:00:00.000000000&#x27;,\n       &#x27;2012-12-21T00:00:00.000000000&#x27;, &#x27;2012-12-28T00:00:00.000000000&#x27;,\n       &#x27;2013-01-04T00:00:00.000000000&#x27;, &#x27;2013-01-11T00:00:00.000000000&#x27;,\n       &#x27;2013-01-18T00:00:00.000000000&#x27;, &#x27;2013-01-25T00:00:00.000000000&#x27;,\n       &#x27;2013-02-01T00:00:00.000000000&#x27;, &#x27;2013-02-08T00:00:00.000000000&#x27;,\n       &#x27;2013-02-15T00:00:00.000000000&#x27;, &#x27;2013-02-22T00:00:00.000000000&#x27;,\n       &#x27;2013-03-01T00:00:00.000000000&#x27;, &#x27;2013-03-08T00:00:00.000000000&#x27;,\n       &#x27;2013-03-15T00:00:00.000000000&#x27;, &#x27;2013-03-22T00:00:00.000000000&#x27;,\n       &#x27;2013-03-29T00:00:00.000000000&#x27;, &#x27;2013-04-05T00:00:00.000000000&#x27;,\n       &#x27;2013-04-12T00:00:00.000000000&#x27;, &#x27;2013-04-19T00:00:00.000000000&#x27;,\n       &#x27;2013-04-26T00:00:00.000000000&#x27;, &#x27;2013-05-03T00:00:00.000000000&#x27;,\n       &#x27;2013-05-10T00:00:00.000000000&#x27;, &#x27;2013-05-17T00:00:00.000000000&#x27;,\n       &#x27;2013-05-24T00:00:00.000000000&#x27;, &#x27;2013-05-31T00:00:00.000000000&#x27;,\n       &#x27;2013-06-07T00:00:00.000000000&#x27;, &#x27;2013-06-14T00:00:00.000000000&#x27;,\n       &#x27;2013-06-21T00:00:00.000000000&#x27;, &#x27;2013-06-28T00:00:00.000000000&#x27;,\n       &#x27;2013-07-05T00:00:00.000000000&#x27;, &#x27;2013-07-12T00:00:00.000000000&#x27;,\n       &#x27;2013-07-19T00:00:00.000000000&#x27;, &#x27;2013-07-26T00:00:00.000000000&#x27;],\n      dtype=&#x27;datetime64[ns]&#x27;)</pre></div></li><li class='xr-var-item'><div class='xr-var-name'><span class='xr-has-index'>component</span></div><div class='xr-var-dims'>(component)</div><div class='xr-var-dtype'>object</div><div class='xr-var-preview xr-preview'>&#x27;month_1&#x27; &#x27;month_2&#x27; ... &#x27;IsHoliday&#x27;</div><input id='attrs-262c80c2-cee1-4239-a1c4-e2242d5c6a2e' class='xr-var-attrs-in' type='checkbox' disabled><label for='attrs-262c80c2-cee1-4239-a1c4-e2242d5c6a2e' title='Show/Hide attributes'><svg class='icon xr-icon-file-text2'><use xlink:href='#icon-file-text2'></use></svg></label><input id='data-b0fe0182-c994-4594-8fda-12ec5f4c307d' class='xr-var-data-in' type='checkbox'><label for='data-b0fe0182-c994-4594-8fda-12ec5f4c307d' title='Show/Hide data repr'><svg class='icon xr-icon-database'><use xlink:href='#icon-database'></use></svg></label><div class='xr-var-attrs'><dl class='xr-attrs'></dl></div><div class='xr-var-data'><pre>array([&#x27;month_1&#x27;, &#x27;month_2&#x27;, &#x27;month_3&#x27;, &#x27;month_4&#x27;, &#x27;month_5&#x27;, &#x27;month_6&#x27;,\n       &#x27;month_7&#x27;, &#x27;month_8&#x27;, &#x27;month_9&#x27;, &#x27;month_10&#x27;, &#x27;month_11&#x27;, &#x27;month_12&#x27;,\n       &#x27;week_1&#x27;, &#x27;week_2&#x27;, &#x27;week_3&#x27;, &#x27;week_4&#x27;, &#x27;week_5&#x27;, &#x27;week_6&#x27;, &#x27;week_7&#x27;,\n       &#x27;week_8&#x27;, &#x27;week_9&#x27;, &#x27;week_10&#x27;, &#x27;week_11&#x27;, &#x27;week_12&#x27;, &#x27;week_13&#x27;,\n       &#x27;week_14&#x27;, &#x27;week_15&#x27;, &#x27;week_16&#x27;, &#x27;week_17&#x27;, &#x27;week_18&#x27;, &#x27;week_19&#x27;,\n       &#x27;week_20&#x27;, &#x27;week_21&#x27;, &#x27;week_22&#x27;, &#x27;week_23&#x27;, &#x27;week_24&#x27;, &#x27;week_25&#x27;,\n       &#x27;week_26&#x27;, &#x27;week_27&#x27;, &#x27;week_28&#x27;, &#x27;week_29&#x27;, &#x27;week_30&#x27;, &#x27;week_31&#x27;,\n       &#x27;week_32&#x27;, &#x27;week_33&#x27;, &#x27;week_34&#x27;, &#x27;week_35&#x27;, &#x27;week_36&#x27;, &#x27;week_37&#x27;,\n       &#x27;week_38&#x27;, &#x27;week_39&#x27;, &#x27;week_40&#x27;, &#x27;week_41&#x27;, &#x27;week_42&#x27;, &#x27;week_43&#x27;,\n       &#x27;week_44&#x27;, &#x27;week_45&#x27;, &#x27;week_46&#x27;, &#x27;week_47&#x27;, &#x27;week_48&#x27;, &#x27;week_49&#x27;,\n       &#x27;week_50&#x27;, &#x27;week_51&#x27;, &#x27;week_52&#x27;, &#x27;IsHoliday&#x27;], dtype=object)</pre></div></li></ul></div></li><li class='xr-section-item'><input id='section-2e2cb3c8-d22b-435d-963d-5fa7c6bda1f6' class='xr-section-summary-in' type='checkbox'  ><label for='section-2e2cb3c8-d22b-435d-963d-5fa7c6bda1f6' class='xr-section-summary' >Indexes: <span>(2)</span></label><div class='xr-section-inline-details'></div><div class='xr-section-details'><ul class='xr-var-list'><li class='xr-var-item'><div class='xr-index-name'><div>time</div></div><div class='xr-index-preview'>PandasIndex</div><div></div><input id='index-646f52a7-c1d1-48c7-afa4-23cd8ff196c1' class='xr-index-data-in' type='checkbox'/><label for='index-646f52a7-c1d1-48c7-afa4-23cd8ff196c1' title='Show/Hide index repr'><svg class='icon xr-icon-database'><use xlink:href='#icon-database'></use></svg></label><div class='xr-index-data'><pre>PandasIndex(DatetimeIndex([&#x27;2010-02-05&#x27;, &#x27;2010-02-12&#x27;, &#x27;2010-02-19&#x27;, &#x27;2010-02-26&#x27;,\n               &#x27;2010-03-05&#x27;, &#x27;2010-03-12&#x27;, &#x27;2010-03-19&#x27;, &#x27;2010-03-26&#x27;,\n               &#x27;2010-04-02&#x27;, &#x27;2010-04-09&#x27;,\n               ...\n               &#x27;2013-05-24&#x27;, &#x27;2013-05-31&#x27;, &#x27;2013-06-07&#x27;, &#x27;2013-06-14&#x27;,\n               &#x27;2013-06-21&#x27;, &#x27;2013-06-28&#x27;, &#x27;2013-07-05&#x27;, &#x27;2013-07-12&#x27;,\n               &#x27;2013-07-19&#x27;, &#x27;2013-07-26&#x27;],\n              dtype=&#x27;datetime64[ns]&#x27;, name=&#x27;time&#x27;, length=182, freq=&#x27;W-FRI&#x27;))</pre></div></li><li class='xr-var-item'><div class='xr-index-name'><div>component</div></div><div class='xr-index-preview'>PandasIndex</div><div></div><input id='index-a9ae3027-b09a-4fd8-a39d-bbca528bf778' class='xr-index-data-in' type='checkbox'/><label for='index-a9ae3027-b09a-4fd8-a39d-bbca528bf778' title='Show/Hide index repr'><svg class='icon xr-icon-database'><use xlink:href='#icon-database'></use></svg></label><div class='xr-index-data'><pre>PandasIndex(Index([&#x27;month_1&#x27;, &#x27;month_2&#x27;, &#x27;month_3&#x27;, &#x27;month_4&#x27;, &#x27;month_5&#x27;, &#x27;month_6&#x27;,\n       &#x27;month_7&#x27;, &#x27;month_8&#x27;, &#x27;month_9&#x27;, &#x27;month_10&#x27;, &#x27;month_11&#x27;, &#x27;month_12&#x27;,\n       &#x27;week_1&#x27;, &#x27;week_2&#x27;, &#x27;week_3&#x27;, &#x27;week_4&#x27;, &#x27;week_5&#x27;, &#x27;week_6&#x27;, &#x27;week_7&#x27;,\n       &#x27;week_8&#x27;, &#x27;week_9&#x27;, &#x27;week_10&#x27;, &#x27;week_11&#x27;, &#x27;week_12&#x27;, &#x27;week_13&#x27;,\n       &#x27;week_14&#x27;, &#x27;week_15&#x27;, &#x27;week_16&#x27;, &#x27;week_17&#x27;, &#x27;week_18&#x27;, &#x27;week_19&#x27;,\n       &#x27;week_20&#x27;, &#x27;week_21&#x27;, &#x27;week_22&#x27;, &#x27;week_23&#x27;, &#x27;week_24&#x27;, &#x27;week_25&#x27;,\n       &#x27;week_26&#x27;, &#x27;week_27&#x27;, &#x27;week_28&#x27;, &#x27;week_29&#x27;, &#x27;week_30&#x27;, &#x27;week_31&#x27;,\n       &#x27;week_32&#x27;, &#x27;week_33&#x27;, &#x27;week_34&#x27;, &#x27;week_35&#x27;, &#x27;week_36&#x27;, &#x27;week_37&#x27;,\n       &#x27;week_38&#x27;, &#x27;week_39&#x27;, &#x27;week_40&#x27;, &#x27;week_41&#x27;, &#x27;week_42&#x27;, &#x27;week_43&#x27;,\n       &#x27;week_44&#x27;, &#x27;week_45&#x27;, &#x27;week_46&#x27;, &#x27;week_47&#x27;, &#x27;week_48&#x27;, &#x27;week_49&#x27;,\n       &#x27;week_50&#x27;, &#x27;week_51&#x27;, &#x27;week_52&#x27;, &#x27;IsHoliday&#x27;],\n      dtype=&#x27;object&#x27;, name=&#x27;component&#x27;))</pre></div></li></ul></div></li><li class='xr-section-item'><input id='section-5448ace8-e0c1-421c-91e1-c5ac6f662445' class='xr-section-summary-in' type='checkbox'  checked><label for='section-5448ace8-e0c1-421c-91e1-c5ac6f662445' class='xr-section-summary' >Attributes: <span>(2)</span></label><div class='xr-section-inline-details'></div><div class='xr-section-details'><dl class='xr-attrs'><dt><span>static_covariates :</span></dt><dd>None</dd><dt><span>hierarchy :</span></dt><dd>None</dd></dl></div></li></ul></div></div>"
     },
     "execution_count": 16,
     "metadata": {},
     "output_type": "execute_result"
    }
   ],
   "source": [
    "dynamic_covariates_transformed[0]"
   ],
   "metadata": {
    "collapsed": false,
    "ExecuteTime": {
     "end_time": "2024-03-11T18:12:10.032915Z",
     "start_time": "2024-03-11T18:12:09.839461Z"
    }
   },
   "execution_count": 16
  },
  {
   "cell_type": "code",
   "execution_count": 13,
   "metadata": {
    "ExecuteTime": {
     "end_time": "2024-03-11T18:10:49.782674Z",
     "start_time": "2024-03-11T18:10:48.394953Z"
    }
   },
   "outputs": [
    {
     "name": "stderr",
     "output_type": "stream",
     "text": [
      "GPU available: True (mps), used: True\n",
      "TPU available: False, using: 0 TPU cores\n",
      "IPU available: False, using: 0 IPUs\n",
      "HPU available: False, using: 0 HPUs\n"
     ]
    },
    {
     "ename": "TypeError",
     "evalue": "Cannot convert a MPS Tensor to float64 dtype as the MPS framework doesn't support float64. Please use float32 instead.",
     "output_type": "error",
     "traceback": [
      "\u001B[0;31m---------------------------------------------------------------------------\u001B[0m",
      "\u001B[0;31mTypeError\u001B[0m                                 Traceback (most recent call last)",
      "Cell \u001B[0;32mIn[13], line 22\u001B[0m\n\u001B[1;32m      1\u001B[0m TiDE_params \u001B[38;5;241m=\u001B[39m {\n\u001B[1;32m      2\u001B[0m     \u001B[38;5;124m\"\u001B[39m\u001B[38;5;124minput_chunk_length\u001B[39m\u001B[38;5;124m\"\u001B[39m: \u001B[38;5;241m4\u001B[39m, \u001B[38;5;66;03m# number of weeks to lookback\u001B[39;00m\n\u001B[1;32m      3\u001B[0m     \u001B[38;5;124m\"\u001B[39m\u001B[38;5;124moutput_chunk_length\u001B[39m\u001B[38;5;124m\"\u001B[39m: FORECAST_HORIZON,\n\u001B[0;32m   (...)\u001B[0m\n\u001B[1;32m     18\u001B[0m     \u001B[38;5;124m\"\u001B[39m\u001B[38;5;124muse_reversible_instance_norm\u001B[39m\u001B[38;5;124m\"\u001B[39m: \u001B[38;5;28;01mFalse\u001B[39;00m,\n\u001B[1;32m     19\u001B[0m }\n\u001B[1;32m     21\u001B[0m model \u001B[38;5;241m=\u001B[39m TiDEModel(\u001B[38;5;241m*\u001B[39m\u001B[38;5;241m*\u001B[39mTiDE_params)\n\u001B[0;32m---> 22\u001B[0m model\u001B[38;5;241m.\u001B[39mfit(data_transformed, future_covariates\u001B[38;5;241m=\u001B[39mdynamic_covariates_transformed, verbose\u001B[38;5;241m=\u001B[39m\u001B[38;5;28;01mFalse\u001B[39;00m)\n\u001B[1;32m     23\u001B[0m pred \u001B[38;5;241m=\u001B[39m SCALER\u001B[38;5;241m.\u001B[39minverse_transform(model\u001B[38;5;241m.\u001B[39mpredict(n\u001B[38;5;241m=\u001B[39mFORECAST_HORIZON, series\u001B[38;5;241m=\u001B[39mdata_transformed, num_samples\u001B[38;5;241m=\u001B[39m\u001B[38;5;241m50\u001B[39m, future_covariates\u001B[38;5;241m=\u001B[39mdynamic_covariates_transformed))\n",
      "File \u001B[0;32m/opt/homebrew/Caskroom/miniconda/base/envs/ZAAI/lib/python3.11/site-packages/darts/utils/torch.py:112\u001B[0m, in \u001B[0;36mrandom_method.<locals>.decorator\u001B[0;34m(self, *args, **kwargs)\u001B[0m\n\u001B[1;32m    110\u001B[0m \u001B[38;5;28;01mwith\u001B[39;00m fork_rng():\n\u001B[1;32m    111\u001B[0m     manual_seed(\u001B[38;5;28mself\u001B[39m\u001B[38;5;241m.\u001B[39m_random_instance\u001B[38;5;241m.\u001B[39mrandint(\u001B[38;5;241m0\u001B[39m, high\u001B[38;5;241m=\u001B[39mMAX_TORCH_SEED_VALUE))\n\u001B[0;32m--> 112\u001B[0m     \u001B[38;5;28;01mreturn\u001B[39;00m decorated(\u001B[38;5;28mself\u001B[39m, \u001B[38;5;241m*\u001B[39margs, \u001B[38;5;241m*\u001B[39m\u001B[38;5;241m*\u001B[39mkwargs)\n",
      "File \u001B[0;32m/opt/homebrew/Caskroom/miniconda/base/envs/ZAAI/lib/python3.11/site-packages/darts/models/forecasting/torch_forecasting_model.py:727\u001B[0m, in \u001B[0;36mTorchForecastingModel.fit\u001B[0;34m(self, series, past_covariates, future_covariates, val_series, val_past_covariates, val_future_covariates, trainer, verbose, epochs, max_samples_per_ts, num_loader_workers)\u001B[0m\n\u001B[1;32m    721\u001B[0m \u001B[38;5;66;03m# call super fit only if user is actually fitting the model\u001B[39;00m\n\u001B[1;32m    722\u001B[0m \u001B[38;5;28msuper\u001B[39m()\u001B[38;5;241m.\u001B[39mfit(\n\u001B[1;32m    723\u001B[0m     series\u001B[38;5;241m=\u001B[39mseq2series(series),\n\u001B[1;32m    724\u001B[0m     past_covariates\u001B[38;5;241m=\u001B[39mseq2series(past_covariates),\n\u001B[1;32m    725\u001B[0m     future_covariates\u001B[38;5;241m=\u001B[39mseq2series(future_covariates),\n\u001B[1;32m    726\u001B[0m )\n\u001B[0;32m--> 727\u001B[0m \u001B[38;5;28;01mreturn\u001B[39;00m \u001B[38;5;28mself\u001B[39m\u001B[38;5;241m.\u001B[39mfit_from_dataset(\u001B[38;5;241m*\u001B[39mparams)\n",
      "File \u001B[0;32m/opt/homebrew/Caskroom/miniconda/base/envs/ZAAI/lib/python3.11/site-packages/darts/utils/torch.py:112\u001B[0m, in \u001B[0;36mrandom_method.<locals>.decorator\u001B[0;34m(self, *args, **kwargs)\u001B[0m\n\u001B[1;32m    110\u001B[0m \u001B[38;5;28;01mwith\u001B[39;00m fork_rng():\n\u001B[1;32m    111\u001B[0m     manual_seed(\u001B[38;5;28mself\u001B[39m\u001B[38;5;241m.\u001B[39m_random_instance\u001B[38;5;241m.\u001B[39mrandint(\u001B[38;5;241m0\u001B[39m, high\u001B[38;5;241m=\u001B[39mMAX_TORCH_SEED_VALUE))\n\u001B[0;32m--> 112\u001B[0m     \u001B[38;5;28;01mreturn\u001B[39;00m decorated(\u001B[38;5;28mself\u001B[39m, \u001B[38;5;241m*\u001B[39margs, \u001B[38;5;241m*\u001B[39m\u001B[38;5;241m*\u001B[39mkwargs)\n",
      "File \u001B[0;32m/opt/homebrew/Caskroom/miniconda/base/envs/ZAAI/lib/python3.11/site-packages/darts/models/forecasting/torch_forecasting_model.py:929\u001B[0m, in \u001B[0;36mTorchForecastingModel.fit_from_dataset\u001B[0;34m(self, train_dataset, val_dataset, trainer, verbose, epochs, num_loader_workers)\u001B[0m\n\u001B[1;32m    877\u001B[0m \u001B[38;5;129m@random_method\u001B[39m\n\u001B[1;32m    878\u001B[0m \u001B[38;5;28;01mdef\u001B[39;00m \u001B[38;5;21mfit_from_dataset\u001B[39m(\n\u001B[1;32m    879\u001B[0m     \u001B[38;5;28mself\u001B[39m,\n\u001B[0;32m   (...)\u001B[0m\n\u001B[1;32m    885\u001B[0m     num_loader_workers: \u001B[38;5;28mint\u001B[39m \u001B[38;5;241m=\u001B[39m \u001B[38;5;241m0\u001B[39m,\n\u001B[1;32m    886\u001B[0m ) \u001B[38;5;241m-\u001B[39m\u001B[38;5;241m>\u001B[39m \u001B[38;5;124m\"\u001B[39m\u001B[38;5;124mTorchForecastingModel\u001B[39m\u001B[38;5;124m\"\u001B[39m:\n\u001B[1;32m    887\u001B[0m \u001B[38;5;250m    \u001B[39m\u001B[38;5;124;03m\"\"\"\u001B[39;00m\n\u001B[1;32m    888\u001B[0m \u001B[38;5;124;03m    Train the model with a specific :class:`darts.utils.data.TrainingDataset` instance.\u001B[39;00m\n\u001B[1;32m    889\u001B[0m \u001B[38;5;124;03m    These datasets implement a PyTorch ``Dataset``, and specify how the target and covariates are sliced\u001B[39;00m\n\u001B[0;32m   (...)\u001B[0m\n\u001B[1;32m    927\u001B[0m \u001B[38;5;124;03m        Fitted model.\u001B[39;00m\n\u001B[1;32m    928\u001B[0m \u001B[38;5;124;03m    \"\"\"\u001B[39;00m\n\u001B[0;32m--> 929\u001B[0m     \u001B[38;5;28mself\u001B[39m\u001B[38;5;241m.\u001B[39m_train(\n\u001B[1;32m    930\u001B[0m         \u001B[38;5;241m*\u001B[39m\u001B[38;5;28mself\u001B[39m\u001B[38;5;241m.\u001B[39m_setup_for_train(\n\u001B[1;32m    931\u001B[0m             train_dataset\u001B[38;5;241m=\u001B[39mtrain_dataset,\n\u001B[1;32m    932\u001B[0m             val_dataset\u001B[38;5;241m=\u001B[39mval_dataset,\n\u001B[1;32m    933\u001B[0m             trainer\u001B[38;5;241m=\u001B[39mtrainer,\n\u001B[1;32m    934\u001B[0m             verbose\u001B[38;5;241m=\u001B[39mverbose,\n\u001B[1;32m    935\u001B[0m             epochs\u001B[38;5;241m=\u001B[39mepochs,\n\u001B[1;32m    936\u001B[0m             num_loader_workers\u001B[38;5;241m=\u001B[39mnum_loader_workers,\n\u001B[1;32m    937\u001B[0m         )\n\u001B[1;32m    938\u001B[0m     )\n\u001B[1;32m    939\u001B[0m     \u001B[38;5;28;01mreturn\u001B[39;00m \u001B[38;5;28mself\u001B[39m\n",
      "File \u001B[0;32m/opt/homebrew/Caskroom/miniconda/base/envs/ZAAI/lib/python3.11/site-packages/darts/models/forecasting/torch_forecasting_model.py:1073\u001B[0m, in \u001B[0;36mTorchForecastingModel._train\u001B[0;34m(self, trainer, model, train_loader, val_loader)\u001B[0m\n\u001B[1;32m   1070\u001B[0m ckpt_path \u001B[38;5;241m=\u001B[39m \u001B[38;5;28mself\u001B[39m\u001B[38;5;241m.\u001B[39mload_ckpt_path\n\u001B[1;32m   1071\u001B[0m \u001B[38;5;28mself\u001B[39m\u001B[38;5;241m.\u001B[39mload_ckpt_path \u001B[38;5;241m=\u001B[39m \u001B[38;5;28;01mNone\u001B[39;00m\n\u001B[0;32m-> 1073\u001B[0m trainer\u001B[38;5;241m.\u001B[39mfit(\n\u001B[1;32m   1074\u001B[0m     model,\n\u001B[1;32m   1075\u001B[0m     train_dataloaders\u001B[38;5;241m=\u001B[39mtrain_loader,\n\u001B[1;32m   1076\u001B[0m     val_dataloaders\u001B[38;5;241m=\u001B[39mval_loader,\n\u001B[1;32m   1077\u001B[0m     ckpt_path\u001B[38;5;241m=\u001B[39mckpt_path,\n\u001B[1;32m   1078\u001B[0m )\n\u001B[1;32m   1079\u001B[0m \u001B[38;5;28mself\u001B[39m\u001B[38;5;241m.\u001B[39mmodel \u001B[38;5;241m=\u001B[39m model\n\u001B[1;32m   1080\u001B[0m \u001B[38;5;28mself\u001B[39m\u001B[38;5;241m.\u001B[39mtrainer \u001B[38;5;241m=\u001B[39m trainer\n",
      "File \u001B[0;32m/opt/homebrew/Caskroom/miniconda/base/envs/ZAAI/lib/python3.11/site-packages/pytorch_lightning/trainer/trainer.py:544\u001B[0m, in \u001B[0;36mTrainer.fit\u001B[0;34m(self, model, train_dataloaders, val_dataloaders, datamodule, ckpt_path)\u001B[0m\n\u001B[1;32m    542\u001B[0m \u001B[38;5;28mself\u001B[39m\u001B[38;5;241m.\u001B[39mstate\u001B[38;5;241m.\u001B[39mstatus \u001B[38;5;241m=\u001B[39m TrainerStatus\u001B[38;5;241m.\u001B[39mRUNNING\n\u001B[1;32m    543\u001B[0m \u001B[38;5;28mself\u001B[39m\u001B[38;5;241m.\u001B[39mtraining \u001B[38;5;241m=\u001B[39m \u001B[38;5;28;01mTrue\u001B[39;00m\n\u001B[0;32m--> 544\u001B[0m call\u001B[38;5;241m.\u001B[39m_call_and_handle_interrupt(\n\u001B[1;32m    545\u001B[0m     \u001B[38;5;28mself\u001B[39m, \u001B[38;5;28mself\u001B[39m\u001B[38;5;241m.\u001B[39m_fit_impl, model, train_dataloaders, val_dataloaders, datamodule, ckpt_path\n\u001B[1;32m    546\u001B[0m )\n",
      "File \u001B[0;32m/opt/homebrew/Caskroom/miniconda/base/envs/ZAAI/lib/python3.11/site-packages/pytorch_lightning/trainer/call.py:44\u001B[0m, in \u001B[0;36m_call_and_handle_interrupt\u001B[0;34m(trainer, trainer_fn, *args, **kwargs)\u001B[0m\n\u001B[1;32m     42\u001B[0m     \u001B[38;5;28;01mif\u001B[39;00m trainer\u001B[38;5;241m.\u001B[39mstrategy\u001B[38;5;241m.\u001B[39mlauncher \u001B[38;5;129;01mis\u001B[39;00m \u001B[38;5;129;01mnot\u001B[39;00m \u001B[38;5;28;01mNone\u001B[39;00m:\n\u001B[1;32m     43\u001B[0m         \u001B[38;5;28;01mreturn\u001B[39;00m trainer\u001B[38;5;241m.\u001B[39mstrategy\u001B[38;5;241m.\u001B[39mlauncher\u001B[38;5;241m.\u001B[39mlaunch(trainer_fn, \u001B[38;5;241m*\u001B[39margs, trainer\u001B[38;5;241m=\u001B[39mtrainer, \u001B[38;5;241m*\u001B[39m\u001B[38;5;241m*\u001B[39mkwargs)\n\u001B[0;32m---> 44\u001B[0m     \u001B[38;5;28;01mreturn\u001B[39;00m trainer_fn(\u001B[38;5;241m*\u001B[39margs, \u001B[38;5;241m*\u001B[39m\u001B[38;5;241m*\u001B[39mkwargs)\n\u001B[1;32m     46\u001B[0m \u001B[38;5;28;01mexcept\u001B[39;00m _TunerExitException:\n\u001B[1;32m     47\u001B[0m     _call_teardown_hook(trainer)\n",
      "File \u001B[0;32m/opt/homebrew/Caskroom/miniconda/base/envs/ZAAI/lib/python3.11/site-packages/pytorch_lightning/trainer/trainer.py:580\u001B[0m, in \u001B[0;36mTrainer._fit_impl\u001B[0;34m(self, model, train_dataloaders, val_dataloaders, datamodule, ckpt_path)\u001B[0m\n\u001B[1;32m    573\u001B[0m \u001B[38;5;28;01massert\u001B[39;00m \u001B[38;5;28mself\u001B[39m\u001B[38;5;241m.\u001B[39mstate\u001B[38;5;241m.\u001B[39mfn \u001B[38;5;129;01mis\u001B[39;00m \u001B[38;5;129;01mnot\u001B[39;00m \u001B[38;5;28;01mNone\u001B[39;00m\n\u001B[1;32m    574\u001B[0m ckpt_path \u001B[38;5;241m=\u001B[39m \u001B[38;5;28mself\u001B[39m\u001B[38;5;241m.\u001B[39m_checkpoint_connector\u001B[38;5;241m.\u001B[39m_select_ckpt_path(\n\u001B[1;32m    575\u001B[0m     \u001B[38;5;28mself\u001B[39m\u001B[38;5;241m.\u001B[39mstate\u001B[38;5;241m.\u001B[39mfn,\n\u001B[1;32m    576\u001B[0m     ckpt_path,\n\u001B[1;32m    577\u001B[0m     model_provided\u001B[38;5;241m=\u001B[39m\u001B[38;5;28;01mTrue\u001B[39;00m,\n\u001B[1;32m    578\u001B[0m     model_connected\u001B[38;5;241m=\u001B[39m\u001B[38;5;28mself\u001B[39m\u001B[38;5;241m.\u001B[39mlightning_module \u001B[38;5;129;01mis\u001B[39;00m \u001B[38;5;129;01mnot\u001B[39;00m \u001B[38;5;28;01mNone\u001B[39;00m,\n\u001B[1;32m    579\u001B[0m )\n\u001B[0;32m--> 580\u001B[0m \u001B[38;5;28mself\u001B[39m\u001B[38;5;241m.\u001B[39m_run(model, ckpt_path\u001B[38;5;241m=\u001B[39mckpt_path)\n\u001B[1;32m    582\u001B[0m \u001B[38;5;28;01massert\u001B[39;00m \u001B[38;5;28mself\u001B[39m\u001B[38;5;241m.\u001B[39mstate\u001B[38;5;241m.\u001B[39mstopped\n\u001B[1;32m    583\u001B[0m \u001B[38;5;28mself\u001B[39m\u001B[38;5;241m.\u001B[39mtraining \u001B[38;5;241m=\u001B[39m \u001B[38;5;28;01mFalse\u001B[39;00m\n",
      "File \u001B[0;32m/opt/homebrew/Caskroom/miniconda/base/envs/ZAAI/lib/python3.11/site-packages/pytorch_lightning/trainer/trainer.py:965\u001B[0m, in \u001B[0;36mTrainer._run\u001B[0;34m(self, model, ckpt_path)\u001B[0m\n\u001B[1;32m    962\u001B[0m \u001B[38;5;28mself\u001B[39m\u001B[38;5;241m.\u001B[39m_logger_connector\u001B[38;5;241m.\u001B[39mreset_metrics()\n\u001B[1;32m    964\u001B[0m \u001B[38;5;66;03m# strategy will configure model and move it to the device\u001B[39;00m\n\u001B[0;32m--> 965\u001B[0m \u001B[38;5;28mself\u001B[39m\u001B[38;5;241m.\u001B[39mstrategy\u001B[38;5;241m.\u001B[39msetup(\u001B[38;5;28mself\u001B[39m)\n\u001B[1;32m    967\u001B[0m \u001B[38;5;66;03m# hook\u001B[39;00m\n\u001B[1;32m    968\u001B[0m \u001B[38;5;28;01mif\u001B[39;00m \u001B[38;5;28mself\u001B[39m\u001B[38;5;241m.\u001B[39mstate\u001B[38;5;241m.\u001B[39mfn \u001B[38;5;241m==\u001B[39m TrainerFn\u001B[38;5;241m.\u001B[39mFITTING:\n",
      "File \u001B[0;32m/opt/homebrew/Caskroom/miniconda/base/envs/ZAAI/lib/python3.11/site-packages/pytorch_lightning/strategies/single_device.py:77\u001B[0m, in \u001B[0;36mSingleDeviceStrategy.setup\u001B[0;34m(self, trainer)\u001B[0m\n\u001B[1;32m     76\u001B[0m \u001B[38;5;28;01mdef\u001B[39;00m \u001B[38;5;21msetup\u001B[39m(\u001B[38;5;28mself\u001B[39m, trainer: pl\u001B[38;5;241m.\u001B[39mTrainer) \u001B[38;5;241m-\u001B[39m\u001B[38;5;241m>\u001B[39m \u001B[38;5;28;01mNone\u001B[39;00m:\n\u001B[0;32m---> 77\u001B[0m     \u001B[38;5;28mself\u001B[39m\u001B[38;5;241m.\u001B[39mmodel_to_device()\n\u001B[1;32m     78\u001B[0m     \u001B[38;5;28msuper\u001B[39m()\u001B[38;5;241m.\u001B[39msetup(trainer)\n",
      "File \u001B[0;32m/opt/homebrew/Caskroom/miniconda/base/envs/ZAAI/lib/python3.11/site-packages/pytorch_lightning/strategies/single_device.py:74\u001B[0m, in \u001B[0;36mSingleDeviceStrategy.model_to_device\u001B[0;34m(self)\u001B[0m\n\u001B[1;32m     72\u001B[0m \u001B[38;5;28;01mdef\u001B[39;00m \u001B[38;5;21mmodel_to_device\u001B[39m(\u001B[38;5;28mself\u001B[39m) \u001B[38;5;241m-\u001B[39m\u001B[38;5;241m>\u001B[39m \u001B[38;5;28;01mNone\u001B[39;00m:\n\u001B[1;32m     73\u001B[0m     \u001B[38;5;28;01massert\u001B[39;00m \u001B[38;5;28mself\u001B[39m\u001B[38;5;241m.\u001B[39mmodel \u001B[38;5;129;01mis\u001B[39;00m \u001B[38;5;129;01mnot\u001B[39;00m \u001B[38;5;28;01mNone\u001B[39;00m, \u001B[38;5;124m\"\u001B[39m\u001B[38;5;124mself.model must be set before self.model.to()\u001B[39m\u001B[38;5;124m\"\u001B[39m\n\u001B[0;32m---> 74\u001B[0m     \u001B[38;5;28mself\u001B[39m\u001B[38;5;241m.\u001B[39mmodel\u001B[38;5;241m.\u001B[39mto(\u001B[38;5;28mself\u001B[39m\u001B[38;5;241m.\u001B[39mroot_device)\n",
      "File \u001B[0;32m/opt/homebrew/Caskroom/miniconda/base/envs/ZAAI/lib/python3.11/site-packages/lightning_fabric/utilities/device_dtype_mixin.py:54\u001B[0m, in \u001B[0;36m_DeviceDtypeModuleMixin.to\u001B[0;34m(self, *args, **kwargs)\u001B[0m\n\u001B[1;32m     52\u001B[0m device, dtype \u001B[38;5;241m=\u001B[39m torch\u001B[38;5;241m.\u001B[39m_C\u001B[38;5;241m.\u001B[39m_nn\u001B[38;5;241m.\u001B[39m_parse_to(\u001B[38;5;241m*\u001B[39margs, \u001B[38;5;241m*\u001B[39m\u001B[38;5;241m*\u001B[39mkwargs)[:\u001B[38;5;241m2\u001B[39m]\n\u001B[1;32m     53\u001B[0m \u001B[38;5;28mself\u001B[39m\u001B[38;5;241m.\u001B[39m__update_properties(device\u001B[38;5;241m=\u001B[39mdevice, dtype\u001B[38;5;241m=\u001B[39mdtype)\n\u001B[0;32m---> 54\u001B[0m \u001B[38;5;28;01mreturn\u001B[39;00m \u001B[38;5;28msuper\u001B[39m()\u001B[38;5;241m.\u001B[39mto(\u001B[38;5;241m*\u001B[39margs, \u001B[38;5;241m*\u001B[39m\u001B[38;5;241m*\u001B[39mkwargs)\n",
      "File \u001B[0;32m/opt/homebrew/Caskroom/miniconda/base/envs/ZAAI/lib/python3.11/site-packages/torch/nn/modules/module.py:1152\u001B[0m, in \u001B[0;36mModule.to\u001B[0;34m(self, *args, **kwargs)\u001B[0m\n\u001B[1;32m   1148\u001B[0m         \u001B[38;5;28;01mreturn\u001B[39;00m t\u001B[38;5;241m.\u001B[39mto(device, dtype \u001B[38;5;28;01mif\u001B[39;00m t\u001B[38;5;241m.\u001B[39mis_floating_point() \u001B[38;5;129;01mor\u001B[39;00m t\u001B[38;5;241m.\u001B[39mis_complex() \u001B[38;5;28;01melse\u001B[39;00m \u001B[38;5;28;01mNone\u001B[39;00m,\n\u001B[1;32m   1149\u001B[0m                     non_blocking, memory_format\u001B[38;5;241m=\u001B[39mconvert_to_format)\n\u001B[1;32m   1150\u001B[0m     \u001B[38;5;28;01mreturn\u001B[39;00m t\u001B[38;5;241m.\u001B[39mto(device, dtype \u001B[38;5;28;01mif\u001B[39;00m t\u001B[38;5;241m.\u001B[39mis_floating_point() \u001B[38;5;129;01mor\u001B[39;00m t\u001B[38;5;241m.\u001B[39mis_complex() \u001B[38;5;28;01melse\u001B[39;00m \u001B[38;5;28;01mNone\u001B[39;00m, non_blocking)\n\u001B[0;32m-> 1152\u001B[0m \u001B[38;5;28;01mreturn\u001B[39;00m \u001B[38;5;28mself\u001B[39m\u001B[38;5;241m.\u001B[39m_apply(convert)\n",
      "File \u001B[0;32m/opt/homebrew/Caskroom/miniconda/base/envs/ZAAI/lib/python3.11/site-packages/torch/nn/modules/module.py:802\u001B[0m, in \u001B[0;36mModule._apply\u001B[0;34m(self, fn, recurse)\u001B[0m\n\u001B[1;32m    800\u001B[0m \u001B[38;5;28;01mif\u001B[39;00m recurse:\n\u001B[1;32m    801\u001B[0m     \u001B[38;5;28;01mfor\u001B[39;00m module \u001B[38;5;129;01min\u001B[39;00m \u001B[38;5;28mself\u001B[39m\u001B[38;5;241m.\u001B[39mchildren():\n\u001B[0;32m--> 802\u001B[0m         module\u001B[38;5;241m.\u001B[39m_apply(fn)\n\u001B[1;32m    804\u001B[0m \u001B[38;5;28;01mdef\u001B[39;00m \u001B[38;5;21mcompute_should_use_set_data\u001B[39m(tensor, tensor_applied):\n\u001B[1;32m    805\u001B[0m     \u001B[38;5;28;01mif\u001B[39;00m torch\u001B[38;5;241m.\u001B[39m_has_compatible_shallow_copy_type(tensor, tensor_applied):\n\u001B[1;32m    806\u001B[0m         \u001B[38;5;66;03m# If the new tensor has compatible tensor type as the existing tensor,\u001B[39;00m\n\u001B[1;32m    807\u001B[0m         \u001B[38;5;66;03m# the current behavior is to change the tensor in-place using `.data =`,\u001B[39;00m\n\u001B[0;32m   (...)\u001B[0m\n\u001B[1;32m    812\u001B[0m         \u001B[38;5;66;03m# global flag to let the user control whether they want the future\u001B[39;00m\n\u001B[1;32m    813\u001B[0m         \u001B[38;5;66;03m# behavior of overwriting the existing tensor or not.\u001B[39;00m\n",
      "File \u001B[0;32m/opt/homebrew/Caskroom/miniconda/base/envs/ZAAI/lib/python3.11/site-packages/torch/nn/modules/module.py:802\u001B[0m, in \u001B[0;36mModule._apply\u001B[0;34m(self, fn, recurse)\u001B[0m\n\u001B[1;32m    800\u001B[0m \u001B[38;5;28;01mif\u001B[39;00m recurse:\n\u001B[1;32m    801\u001B[0m     \u001B[38;5;28;01mfor\u001B[39;00m module \u001B[38;5;129;01min\u001B[39;00m \u001B[38;5;28mself\u001B[39m\u001B[38;5;241m.\u001B[39mchildren():\n\u001B[0;32m--> 802\u001B[0m         module\u001B[38;5;241m.\u001B[39m_apply(fn)\n\u001B[1;32m    804\u001B[0m \u001B[38;5;28;01mdef\u001B[39;00m \u001B[38;5;21mcompute_should_use_set_data\u001B[39m(tensor, tensor_applied):\n\u001B[1;32m    805\u001B[0m     \u001B[38;5;28;01mif\u001B[39;00m torch\u001B[38;5;241m.\u001B[39m_has_compatible_shallow_copy_type(tensor, tensor_applied):\n\u001B[1;32m    806\u001B[0m         \u001B[38;5;66;03m# If the new tensor has compatible tensor type as the existing tensor,\u001B[39;00m\n\u001B[1;32m    807\u001B[0m         \u001B[38;5;66;03m# the current behavior is to change the tensor in-place using `.data =`,\u001B[39;00m\n\u001B[0;32m   (...)\u001B[0m\n\u001B[1;32m    812\u001B[0m         \u001B[38;5;66;03m# global flag to let the user control whether they want the future\u001B[39;00m\n\u001B[1;32m    813\u001B[0m         \u001B[38;5;66;03m# behavior of overwriting the existing tensor or not.\u001B[39;00m\n",
      "File \u001B[0;32m/opt/homebrew/Caskroom/miniconda/base/envs/ZAAI/lib/python3.11/site-packages/torch/nn/modules/module.py:802\u001B[0m, in \u001B[0;36mModule._apply\u001B[0;34m(self, fn, recurse)\u001B[0m\n\u001B[1;32m    800\u001B[0m \u001B[38;5;28;01mif\u001B[39;00m recurse:\n\u001B[1;32m    801\u001B[0m     \u001B[38;5;28;01mfor\u001B[39;00m module \u001B[38;5;129;01min\u001B[39;00m \u001B[38;5;28mself\u001B[39m\u001B[38;5;241m.\u001B[39mchildren():\n\u001B[0;32m--> 802\u001B[0m         module\u001B[38;5;241m.\u001B[39m_apply(fn)\n\u001B[1;32m    804\u001B[0m \u001B[38;5;28;01mdef\u001B[39;00m \u001B[38;5;21mcompute_should_use_set_data\u001B[39m(tensor, tensor_applied):\n\u001B[1;32m    805\u001B[0m     \u001B[38;5;28;01mif\u001B[39;00m torch\u001B[38;5;241m.\u001B[39m_has_compatible_shallow_copy_type(tensor, tensor_applied):\n\u001B[1;32m    806\u001B[0m         \u001B[38;5;66;03m# If the new tensor has compatible tensor type as the existing tensor,\u001B[39;00m\n\u001B[1;32m    807\u001B[0m         \u001B[38;5;66;03m# the current behavior is to change the tensor in-place using `.data =`,\u001B[39;00m\n\u001B[0;32m   (...)\u001B[0m\n\u001B[1;32m    812\u001B[0m         \u001B[38;5;66;03m# global flag to let the user control whether they want the future\u001B[39;00m\n\u001B[1;32m    813\u001B[0m         \u001B[38;5;66;03m# behavior of overwriting the existing tensor or not.\u001B[39;00m\n",
      "File \u001B[0;32m/opt/homebrew/Caskroom/miniconda/base/envs/ZAAI/lib/python3.11/site-packages/torch/nn/modules/module.py:825\u001B[0m, in \u001B[0;36mModule._apply\u001B[0;34m(self, fn, recurse)\u001B[0m\n\u001B[1;32m    821\u001B[0m \u001B[38;5;66;03m# Tensors stored in modules are graph leaves, and we don't want to\u001B[39;00m\n\u001B[1;32m    822\u001B[0m \u001B[38;5;66;03m# track autograd history of `param_applied`, so we have to use\u001B[39;00m\n\u001B[1;32m    823\u001B[0m \u001B[38;5;66;03m# `with torch.no_grad():`\u001B[39;00m\n\u001B[1;32m    824\u001B[0m \u001B[38;5;28;01mwith\u001B[39;00m torch\u001B[38;5;241m.\u001B[39mno_grad():\n\u001B[0;32m--> 825\u001B[0m     param_applied \u001B[38;5;241m=\u001B[39m fn(param)\n\u001B[1;32m    826\u001B[0m should_use_set_data \u001B[38;5;241m=\u001B[39m compute_should_use_set_data(param, param_applied)\n\u001B[1;32m    827\u001B[0m \u001B[38;5;28;01mif\u001B[39;00m should_use_set_data:\n",
      "File \u001B[0;32m/opt/homebrew/Caskroom/miniconda/base/envs/ZAAI/lib/python3.11/site-packages/torch/nn/modules/module.py:1150\u001B[0m, in \u001B[0;36mModule.to.<locals>.convert\u001B[0;34m(t)\u001B[0m\n\u001B[1;32m   1147\u001B[0m \u001B[38;5;28;01mif\u001B[39;00m convert_to_format \u001B[38;5;129;01mis\u001B[39;00m \u001B[38;5;129;01mnot\u001B[39;00m \u001B[38;5;28;01mNone\u001B[39;00m \u001B[38;5;129;01mand\u001B[39;00m t\u001B[38;5;241m.\u001B[39mdim() \u001B[38;5;129;01min\u001B[39;00m (\u001B[38;5;241m4\u001B[39m, \u001B[38;5;241m5\u001B[39m):\n\u001B[1;32m   1148\u001B[0m     \u001B[38;5;28;01mreturn\u001B[39;00m t\u001B[38;5;241m.\u001B[39mto(device, dtype \u001B[38;5;28;01mif\u001B[39;00m t\u001B[38;5;241m.\u001B[39mis_floating_point() \u001B[38;5;129;01mor\u001B[39;00m t\u001B[38;5;241m.\u001B[39mis_complex() \u001B[38;5;28;01melse\u001B[39;00m \u001B[38;5;28;01mNone\u001B[39;00m,\n\u001B[1;32m   1149\u001B[0m                 non_blocking, memory_format\u001B[38;5;241m=\u001B[39mconvert_to_format)\n\u001B[0;32m-> 1150\u001B[0m \u001B[38;5;28;01mreturn\u001B[39;00m t\u001B[38;5;241m.\u001B[39mto(device, dtype \u001B[38;5;28;01mif\u001B[39;00m t\u001B[38;5;241m.\u001B[39mis_floating_point() \u001B[38;5;129;01mor\u001B[39;00m t\u001B[38;5;241m.\u001B[39mis_complex() \u001B[38;5;28;01melse\u001B[39;00m \u001B[38;5;28;01mNone\u001B[39;00m, non_blocking)\n",
      "\u001B[0;31mTypeError\u001B[0m: Cannot convert a MPS Tensor to float64 dtype as the MPS framework doesn't support float64. Please use float32 instead."
     ]
    }
   ],
   "source": [
    "TiDE_params = {\n",
    "    \"input_chunk_length\": 4, # number of weeks to lookback\n",
    "    \"output_chunk_length\": FORECAST_HORIZON,\n",
    "    \"num_encoder_layers\": 1,\n",
    "    \"num_decoder_layers\": 1,\n",
    "    \"decoder_output_dim\": 1,\n",
    "    \"hidden_size\": 15,\n",
    "    \"temporal_width_past\": 4,\n",
    "    \"temporal_width_future\": 4,\n",
    "    \"temporal_decoder_hidden\": 26,\n",
    "    \"dropout\": 0.1,\n",
    "    \"batch_size\": 16,\n",
    "    \"n_epochs\": 5,\n",
    "    \"likelihood\": QuantileRegression(quantiles=[0.25, 0.5, 0.75]),\n",
    "    \"random_state\": 42,\n",
    "    \"use_static_covariates\": True,\n",
    "    \"optimizer_kwargs\": {\"lr\": 1e-3},\n",
    "    \"use_reversible_instance_norm\": False,\n",
    "}\n",
    "\n",
    "model = TiDEModel(**TiDE_params)\n",
    "model.fit(data_transformed, future_covariates=dynamic_covariates_transformed, verbose=False)\n",
    "pred = SCALER.inverse_transform(model.predict(n=FORECAST_HORIZON, series=data_transformed, num_samples=50, future_covariates=dynamic_covariates_transformed))"
   ]
  },
  {
   "cell_type": "code",
   "execution_count": null,
   "metadata": {
    "ExecuteTime": {
     "end_time": "2024-03-11T18:10:49.786152Z",
     "start_time": "2024-03-11T18:10:49.785852Z"
    }
   },
   "outputs": [],
   "source": [
    "# let's check one example\n",
    "pred_df = pred[0].quantile_df(0.5).reset_index().rename(columns={'Weekly_Sales_0.5':'forecast'})\n",
    "pred_df['Store'] = TRANSFORMER.inverse_transform(pred[0]).static_covariates['Store'][0]\n",
    "pred_df['Dept'] = TRANSFORMER.inverse_transform(pred[0]).static_covariates['Store'][0]\n",
    "pred_df = pd.concat([train[(train['Store'] == 1) & (train['Dept'] == 1)], pred_df])"
   ]
  },
  {
   "cell_type": "code",
   "execution_count": null,
   "metadata": {},
   "outputs": [],
   "source": [
    "fig = px.line(\n",
    "    pred_df,\n",
    "    x=pred_df[\"Date\"],\n",
    "    y=['Weekly_Sales', 'forecast'],\n",
    "    hover_data={\"Date\": \"|%B %d, %Y\"},\n",
    "    width=1350,\n",
    "    height=500,\n",
    ")\n",
    "\n",
    "fig.update_layout(\n",
    "    legend=dict(yanchor=\"top\", y=0.99, xanchor=\"left\", x=0.01),\n",
    "    yaxis_title=\"Weekly Sales\",\n",
    "    xaxis_title=\"Delivery Week\",\n",
    ")\n",
    "\n",
    "fig.show()"
   ]
  },
  {
   "cell_type": "code",
   "execution_count": null,
   "metadata": {},
   "outputs": [],
   "source": []
  }
 ],
 "metadata": {
  "kernelspec": {
   "display_name": "tide",
   "language": "python",
   "name": "python3"
  },
  "language_info": {
   "codemirror_mode": {
    "name": "ipython",
    "version": 3
   },
   "file_extension": ".py",
   "mimetype": "text/x-python",
   "name": "python",
   "nbconvert_exporter": "python",
   "pygments_lexer": "ipython3",
   "version": "3.10.13"
  }
 },
 "nbformat": 4,
 "nbformat_minor": 2
}
